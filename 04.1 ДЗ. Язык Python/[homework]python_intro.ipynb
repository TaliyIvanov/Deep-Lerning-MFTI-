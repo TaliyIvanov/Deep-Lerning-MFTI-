{
 "cells": [
  {
   "cell_type": "markdown",
   "metadata": {
    "id": "y1GvSl7RYATs"
   },
   "source": [
    "<p style=\"align: center;\"><img align=center src=\"https://s8.hostingkartinok.com/uploads/images/2018/08/308b49fcfbc619d629fe4604bceb67ac.jpg\" width=500 height=450/></p>\n",
    "\n",
    "<h3 style=\"text-align: center;\"><b>Курс \"Глубокое обучение\"</b></h3>\n",
    "\n",
    "<h2 style=\"text-align: center;\"><b>Домашнее задание. Основы Python</b></h2>\n",
    "\n",
    "Вам предлагается решить задачи ниже. Решения необходимо сдавать в Stepik."
   ]
  },
  {
   "cell_type": "markdown",
   "metadata": {
    "id": "MDEu6tZQYATy"
   },
   "source": [
    "### Почти двойной факториал\n",
    "Дано натуральное $N \\leqslant 100$.  Выведите произведение всех нечётных натуральных чисел, не превосходящих $N$."
   ]
  },
  {
   "cell_type": "code",
   "execution_count": 9,
   "metadata": {
    "id": "5GgcNVy1YAT0"
   },
   "outputs": [],
   "source": [
    "#1ый вариант с IF\n",
    "def almost_double_factorial_1(n):\n",
    "    s = 1\n",
    "    for i in range(n+1):\n",
    "        if i % 2 != 0:\n",
    "            s *= i\n",
    "    return s"
   ]
  },
  {
   "cell_type": "code",
   "execution_count": 10,
   "metadata": {},
   "outputs": [],
   "source": [
    "#второй вариант с изменением шага, но тут важно не профукаться с диапазоном значений\n",
    "def almost_double_factorial_2(n):\n",
    "    s = 1\n",
    "    for i in range(1, n+1, 2):\n",
    "        s *= i\n",
    "    return s"
   ]
  },
  {
   "cell_type": "code",
   "execution_count": 12,
   "metadata": {},
   "outputs": [
    {
     "data": {
      "text/plain": [
       "(7905853580625, 7905853580625)"
      ]
     },
     "execution_count": 12,
     "metadata": {},
     "output_type": "execute_result"
    }
   ],
   "source": [
    "almost_double_factorial_1(25), almost_double_factorial_2(25)"
   ]
  },
  {
   "cell_type": "markdown",
   "metadata": {
    "id": "A57_204nYAT3"
   },
   "source": [
    "### Хитрая сортировка\n",
    "\n",
    "Пусть у нас есть следующий список, в котором элементы -- tuple из строк:\n",
    "\n",
    "``items = [('one', 'two'), ('three', 'four'), ('five', 'six'), ('string', 'a')]``\n",
    "\n",
    "Мы хотим отсортировать этот список по последней букве второго элемента каждого ``tuple``, т.е. получить такой список:\n",
    "\n",
    "``sorted_items = [('string', 'a'), ('one', 'two'), ('three', 'four'), ('five', 'six')]``.\n",
    "Что нужно вставить вместо \"###\" в следующем выражении, чтобы получить сортировку?\n",
    "\n",
    "``sorted_items = sorted(items, key=lambda x: ###)``"
   ]
  },
  {
   "cell_type": "code",
   "execution_count": 23,
   "metadata": {
    "id": "SnIk7m_8YAT4"
   },
   "outputs": [],
   "source": [
    "items = [('one', 'two'), ('three', 'four'), ('five', 'six'), ('string', 'a')]\n",
    "\n",
    "sorted_items = sorted(items, key=lambda x: x[1][-1])"
   ]
  },
  {
   "cell_type": "code",
   "execution_count": 24,
   "metadata": {},
   "outputs": [
    {
     "data": {
      "text/plain": [
       "[('string', 'a'), ('one', 'two'), ('three', 'four'), ('five', 'six')]"
      ]
     },
     "execution_count": 24,
     "metadata": {},
     "output_type": "execute_result"
    }
   ],
   "source": [
    "sorted_items"
   ]
  },
  {
   "cell_type": "code",
   "execution_count": 25,
   "metadata": {},
   "outputs": [],
   "source": [
    "assert sorted_items == [('string', 'a'), ('one', 'two'), ('three', 'four'), ('five', 'six')], \\\n",
    "\"Something is wrong! Please try again\""
   ]
  },
  {
   "cell_type": "markdown",
   "metadata": {
    "id": "f_ggknIxYAT7"
   },
   "source": [
    "### Слайсы\n",
    "\n",
    "Дан код:\n",
    "\n",
    "``x = [1, 2, 3, 4, 5]``\n",
    "\n",
    "``x[###] = [-1, -3, -5]``\n",
    "\n",
    "``print(x)``\n",
    "\n",
    "Напишите слайс вместо ###, чтобы на экран вывелось:\n",
    "\n",
    "``[-5, 2, -3, 4, -1]``"
   ]
  },
  {
   "cell_type": "code",
   "execution_count": 31,
   "metadata": {
    "id": "JcLMmkF6YAT8"
   },
   "outputs": [
    {
     "data": {
      "text/plain": [
       "[-5, 2, -3, 4, -1]"
      ]
     },
     "execution_count": 31,
     "metadata": {},
     "output_type": "execute_result"
    }
   ],
   "source": [
    "x = [1, 2, 3, 4, 5]\n",
    "x[4::-2] = [-1, -3, -5]\n",
    "x\n"
   ]
  },
  {
   "cell_type": "markdown",
   "metadata": {
    "id": "3QOrzr1_YAT_"
   },
   "source": [
    "### Создание массивов\n",
    "Дан массив $A[0,\\ldots,N-1]$. Напишите функцию, принимающую один обязательный аргумент A и один опциональный аргумент ``erase``, по умолчанию равный 1. Возвратите массив $B[0,\\ldots, N-1]$, где $B_i = A_0 + \\ldots + A_{i}$ --- массив частичных сумм массива $A$, предварительно удалив из массива $B$ все элементы, равные erase. Постарайтесь сделать это за линейное время без использования Numpy."
   ]
  },
  {
   "cell_type": "code",
   "execution_count": 40,
   "metadata": {
    "id": "GSeVXF-xYAUA"
   },
   "outputs": [],
   "source": [
    "def cumsum_and_erase(A, erase=1):\n",
    "    B = []\n",
    "    c = 0\n",
    "    for i in range(len(A)):\n",
    "        c += A[i]\n",
    "        if c != erase:\n",
    "            B.append(c)\n",
    "    return B"
   ]
  },
  {
   "cell_type": "code",
   "execution_count": 42,
   "metadata": {},
   "outputs": [
    {
     "name": "stdout",
     "output_type": "stream",
     "text": [
      "CPU times: total: 0 ns\n",
      "Wall time: 0 ns\n"
     ]
    },
    {
     "data": {
      "text/plain": [
       "[5, 6, 15, 29]"
      ]
     },
     "execution_count": 42,
     "metadata": {},
     "output_type": "execute_result"
    }
   ],
   "source": [
    "%%time\n",
    "cumsum_and_erase([5, 1, 4, 5, 14], erase=10)"
   ]
  },
  {
   "cell_type": "markdown",
   "metadata": {
    "id": "xvOBFjavYAUD"
   },
   "source": [
    "### Обработка текста\n",
    "Дан список текстов, слова в которых разделены пробелами (можно считать, что знаков препинания нет). Часть слов является \"мусорными\": в них присутствуют цифры и спецсимволы. Отфильтруйте такие слова из каждого текста. Используйте функции ``str.split``, ``str.isalpha``, ``str.join``, а также [генератор filter](http://pythonicway.com/python-functinal-programming)."
   ]
  },
  {
   "cell_type": "code",
   "execution_count": 339,
   "metadata": {},
   "outputs": [],
   "source": [
    "sentences = ['1 thousand devils', 'My !name @is 9Pasha', '#Room #125 costs $100']"
   ]
  },
  {
   "cell_type": "code",
   "execution_count": 343,
   "metadata": {},
   "outputs": [
    {
     "name": "stdout",
     "output_type": "stream",
     "text": [
      "['thousand devils', 'My', 'costs']\n"
     ]
    }
   ],
   "source": [
    "d=[]                                               #создаю список. который буду возвращать\n",
    "for i in range(len(sentences)):                    #цикл, в котором я буду сплитовать список строк\n",
    "    s = sentences[i].split(' ')\n",
    "    c = []                                         #временны список\n",
    "    for x in range(len(s)):\n",
    "        if s[x].isalpha() == True:                 #условия проверки на то. что все элементы - буквы\n",
    "            c.append(s[x])                         #Добавляю слово во временный список\n",
    "    d.append(' '.join(c))                          #Добавляю временный список в основной\n",
    "print(d)"
   ]
  },
  {
   "cell_type": "code",
   "execution_count": 344,
   "metadata": {},
   "outputs": [],
   "source": [
    "def process(sentences):\n",
    "    d=[]\n",
    "    for i in range(len(sentences)):\n",
    "        s = sentences[i].split(' ')\n",
    "        c = []\n",
    "        for x in range(len(s)):\n",
    "            if s[x].isalpha() == True:\n",
    "                c.append(s[x])\n",
    "        d.append(' '.join(c))\n",
    "    return d"
   ]
  },
  {
   "cell_type": "code",
   "execution_count": 345,
   "metadata": {},
   "outputs": [
    {
     "data": {
      "text/plain": [
       "['thousand devils', 'My', 'costs']"
      ]
     },
     "execution_count": 345,
     "metadata": {},
     "output_type": "execute_result"
    }
   ],
   "source": [
    "#ответ проходит!\n",
    "process(sentences)"
   ]
  },
  {
   "cell_type": "markdown",
   "metadata": {},
   "source": [
    "- анализ решений других участников курса"
   ]
  },
  {
   "cell_type": "code",
   "execution_count": 346,
   "metadata": {},
   "outputs": [],
   "source": [
    "#Лично для меня пока что вот эти все однострочные решения до сих пор что то с чем то)\n",
    "#Надо отдельно будет посидеть с lambda функцией\n",
    "def process(sentences):\n",
    "    return [\" \".join(filter(lambda x: x.isalpha(), i.split())) for i in sentences]"
   ]
  },
  {
   "cell_type": "markdown",
   "metadata": {},
   "source": [
    "Вообще, согласно PEP8 пишут не превышать 79 символов в строке.\n",
    "\n",
    "В связи в этим решим углубиться в этот вопрос и наткнулся на интересную статью.\n",
    "\n",
    "Был на party доклад от Кирилла Борисова \"Контроль за стилем кода\". Интересный и толковый.\n",
    "\n",
    "Только я возражаю против с высказывания вроде:\n",
    "  -- pep8 рекомендует ограничивать длину строк в 79 символов максимум. Мы с этим несогласны -- сейчас мониторы большие, можно писать 120 символов и это великолепно помещается на экране.\n",
    "\n",
    "Я везде строго пишу с ограничением на 79 символов.\n",
    "\n",
    "Попробую объяснить почему.\n",
    "\n",
    "1. Во первых сам код Python так написан и patch вылезающий за границы просто не будет принят. OK, я committer -- значит тем более обязан следовать соглашениям.\n",
    "2. Во вторых мой редактор (emacs если что) настроен на то чтобы подсвечивать длинные строки. И когда я открываю код библиотеки, наплевавшей на ограничение по длине строки -- у меня половина экрана \"красная\". Это огорчает.\n",
    "3. В третьих и главное: если у вас широкий монитор -- это прекрасная возможность разбить его по вертикали и видеть одновременно несколько редактируемых файлов. У меня даже на 14'' ноутбуке Full HD -- это значит что при размере шрифта в 13pt у меня помещается два буфера. Коллега на 24'' привык работать в vim с шестью буферами: 3х2. Это очень удобно -- гораздо лучше видеть сразу несколько файлов чем один, но с длинными строками.\n",
    "\n",
    "Что до \"невозможности\" уместить код в 79 символов -- это распространенное заблуждение.\n",
    "При некотором навыке всё легко получается.\n",
    "\n",
    "К тому же такой подход провоцирует сохранение промежуточных вычислений в локальные переменные -- что хорошо само по себе, так как улучшает читабельность кода (вы же даете переменным не слишком длинные, но \"говорящие\" имена, верно?)\n",
    "\n",
    "Коротко говоря, 79 символов заставляют лучше писать код и помогают его читать. Что вам всем и рекомендую.\n"
   ]
  },
  {
   "cell_type": "markdown",
   "metadata": {
    "id": "EK5Llgf7YAUG"
   },
   "source": [
    "### Собственный класс \"Нейрон\"\n",
    "Реализуйте класс \"Нейрон\", у которого будет несколько методов: \n",
    "\n",
    "* ``__init__``. Принимает на вход массив весов нейрона --- $w = (w_1, \\ldots, w_n)$, а также функцию активации $f$ (по умолчанию $f(x) = x$). Сохраняет веса и функцию внутри класса.\n",
    "\n",
    "* ``forward``. Принимает на вход массив $x = (x_1, \\ldots, x_N)$ --- входы нейрона. Возвращает $f(w_1x_1 + \\ldots + w_nx_n)$.\n",
    "\n",
    "* ``backlog``. Возвращает последний массив $x$, который подавался функции ``forward`` на вход. \n",
    "\n",
    "Если у вас появились трудности, информация по созданию своих классов есть здесь: https://pythonworld.ru/osnovy/obektno-orientirovannoe-programmirovanie-obshhee-predstavlenie.html"
   ]
  },
  {
   "cell_type": "markdown",
   "metadata": {},
   "source": [
    "Что нужно сделать\n",
    "1. В def __init___  объявляем атрибуты класса  через self. Пример  self.w = w  Там же объявляем атрибут х для  def backlog(self)\n",
    "2. В def forward(self, x):   - записываем атрибут х.  Дальше запускаем цикл и множим элементы двух списков друг на друга -> Суммируем их. Полученное число отдаем в качестве аргумента  функции класса, которую можем вызвать через self.f()  Результат возвращаем. \n",
    "3. В def backlog(self) возвращаем атрибут х"
   ]
  },
  {
   "cell_type": "code",
   "execution_count": 422,
   "metadata": {
    "id": "ZmUVu7fNYAUH"
   },
   "outputs": [],
   "source": [
    "class Neuron:\n",
    "    \n",
    "    def __init__(self, w, f = lambda x: x):\n",
    "        self.w = w\n",
    "        self.f = f\n",
    "    \n",
    "    def forward(self, x):\n",
    "        self.x = x\n",
    "        l = 0\n",
    "        for i in range(len(x)):\n",
    "            c = w[i] * x[i]\n",
    "            l += c\n",
    "        return self.f(l) \n",
    "        \n",
    "    def backlog(self):\n",
    "        return self.x"
   ]
  },
  {
   "cell_type": "code",
   "execution_count": 423,
   "metadata": {},
   "outputs": [
    {
     "name": "stdout",
     "output_type": "stream",
     "text": [
      "<__main__.Neuron object at 0x0000021FF4872340>\n"
     ]
    }
   ],
   "source": [
    "neuron = Neuron([0.5, 1., -1., 2.], lambda x: 1. / (1 + math.exp(x)))\n",
    "x = [1, 2, 3, 4]\n",
    "neuron.forward(x)\n",
    "print(neuron)"
   ]
  },
  {
   "cell_type": "code",
   "execution_count": 424,
   "metadata": {},
   "outputs": [
    {
     "data": {
      "text/plain": [
       "[1, 2, 3, 4]"
      ]
     },
     "execution_count": 424,
     "metadata": {},
     "output_type": "execute_result"
    }
   ],
   "source": [
    "neuron.backlog()"
   ]
  },
  {
   "cell_type": "code",
   "execution_count": 425,
   "metadata": {},
   "outputs": [
    {
     "data": {
      "text/plain": [
       "0.0005527786369235996"
      ]
     },
     "execution_count": 425,
     "metadata": {},
     "output_type": "execute_result"
    }
   ],
   "source": [
    "neuron.forward(x)"
   ]
  },
  {
   "cell_type": "code",
   "execution_count": 426,
   "metadata": {},
   "outputs": [],
   "source": [
    "x = [1, 2, 3, 4]"
   ]
  }
 ],
 "metadata": {
  "colab": {
   "provenance": []
  },
  "kernelspec": {
   "display_name": "Python 3 (ipykernel)",
   "language": "python",
   "name": "python3"
  },
  "language_info": {
   "codemirror_mode": {
    "name": "ipython",
    "version": 3
   },
   "file_extension": ".py",
   "mimetype": "text/x-python",
   "name": "python",
   "nbconvert_exporter": "python",
   "pygments_lexer": "ipython3",
   "version": "3.9.12"
  }
 },
 "nbformat": 4,
 "nbformat_minor": 1
}
