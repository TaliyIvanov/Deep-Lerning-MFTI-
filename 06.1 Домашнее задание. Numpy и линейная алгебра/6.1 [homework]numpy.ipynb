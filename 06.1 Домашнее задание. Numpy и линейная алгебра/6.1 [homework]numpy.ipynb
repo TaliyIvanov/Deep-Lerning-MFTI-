{
 "cells": [
  {
   "cell_type": "markdown",
   "metadata": {
    "id": "KxIquH6GK7kt"
   },
   "source": [
    "<p style=\"align: center;\"><img align=center src=\"https://s8.hostingkartinok.com/uploads/images/2018/08/308b49fcfbc619d629fe4604bceb67ac.jpg\" width=500 height=450/></p>\n",
    "\n",
    "\n",
    "<h3 style=\"text-align: center;\"><b>Школа глубокого обучения ФПМИ МФТИ, осень 2021</b></h3>\n",
    "\n",
    "## Домашнее задание: библиотека Numpy и линейная алгебра\n"
   ]
  },
  {
   "cell_type": "code",
   "execution_count": 3,
   "metadata": {
    "id": "YEJ8DQ4QK7kx"
   },
   "outputs": [],
   "source": [
    "import numpy as np\n",
    "import random\n",
    "import scipy.stats as sps"
   ]
  },
  {
   "cell_type": "markdown",
   "metadata": {
    "id": "hYXhVX0eK7k2"
   },
   "source": [
    "### Задание 1\n",
    "Перемножение матриц\n",
    "Напишите две функции, каждая из которых перемножает две квадратные матрицы: одна без использования встроенных функций numpy, а другая --- с помощью numpy. На вход первой задаче подаются списки размера size по size элементов в каждом. На вход второй задаче подаются объекты типа np.ndarray --- квадратные матрицы одинакового размера. \n",
    "\n",
    "Первая функция должна возвращать список списков, а вторая -- np.array."
   ]
  },
  {
   "cell_type": "code",
   "execution_count": 44,
   "metadata": {},
   "outputs": [],
   "source": [
    "#Так как я хитрый, я не буду перемножать матрицы 100х100\n",
    "#Я сделаю свои с блекджеком и поменьше\n",
    "a1 = np.random.sample((3, 3))\n",
    "b1 = np.random.sample((3, 3))"
   ]
  },
  {
   "cell_type": "code",
   "execution_count": 45,
   "metadata": {},
   "outputs": [
    {
     "data": {
      "text/plain": [
       "(array([[0.65152037, 0.33278942, 0.77835958],\n",
       "        [0.78791933, 0.0234817 , 0.00112881],\n",
       "        [0.1658756 , 0.28424097, 0.41330411]]),\n",
       " array([[0.40609657, 0.78106585, 0.78119319],\n",
       "        [0.34579636, 0.71537297, 0.72995211],\n",
       "        [0.29827389, 0.61990509, 0.71591747]]))"
      ]
     },
     "execution_count": 45,
     "metadata": {},
     "output_type": "execute_result"
    }
   ],
   "source": [
    "a1, b1"
   ]
  },
  {
   "cell_type": "code",
   "execution_count": 46,
   "metadata": {},
   "outputs": [],
   "source": [
    "#Т.к. я знаю, что матрицы у меня квадратные, то особо не парюсь для цикла\n",
    "lenght = a1.shape[0]"
   ]
  },
  {
   "cell_type": "markdown",
   "metadata": {},
   "source": [
    "Алгоритм умножения матриц\n",
    "Умножаем элементы в строках первой матрицы на элементы в столбцах второй матрицы.\n",
    "\n",
    "1. Умножаем элементы первой строки на элементы первого столбца.\n",
    "- Умножаем первый элемент первой строки на первый элемент первого столбца.\n",
    "- Умножаем второй элемент первой строки на второй элемент первого столбца.\n",
    "- Делаем то же самое с каждым элементом, пока не дойдем до конца как первой строки первой матрицы, так и первого столбца второй матрицы.\n",
    "- Складываем полученные произведения.\n",
    "- Полученный результат будет первым элементом первой строки произведения матриц.\n",
    "2. Умножаем элементы первой строки первой матрицы на элементы второго столбца второй матрицы.\n",
    "- Умножаем первый элемент первой строки на первый элемент второго столбца.\n",
    "- Умножаем второй элемент первой строки на второй элемент второго столбца.\n",
    "- Делаем то же самое с каждым элементом, пока не дойдем до конца как первой строки первой матрицы, так и второго столбца второй матрицы.\n",
    "- Складываем полученные произведения.\n",
    "- Полученный результат будет вторым элементом первой строки произведения матриц.\n",
    "3. Применяя тот же самый алгоритм, умножаем элементы первой строки первой матрицы на элементы остальных столбцов второй матрицы. Полученные числа составят первую строку вычисляемой матрицы.\n",
    "4. Вторая строка вычисляемой матрицы находится аналогично умножением элементов второй строки первой матрицы на элементы каждого столбца второй матрицы: результаты записываются в новую матрицу после каждого суммирования.\n",
    "5. Делаем это с каждой строкой первой матрицы, пока все строки новой матрицы не будут заполнены."
   ]
  },
  {
   "cell_type": "code",
   "execution_count": 47,
   "metadata": {},
   "outputs": [
    {
     "data": {
      "text/plain": [
       "numpy.ndarray"
      ]
     },
     "execution_count": 47,
     "metadata": {},
     "output_type": "execute_result"
    }
   ],
   "source": [
    "type(a1)"
   ]
  },
  {
   "cell_type": "code",
   "execution_count": 48,
   "metadata": {},
   "outputs": [
    {
     "name": "stdout",
     "output_type": "stream",
     "text": [
      "[[0.61182189 1.22945792 1.30912484]\n",
      " [0.32842792 0.63291481 0.63346587]\n",
      " [0.28892883 0.5891074  0.63295483]]\n"
     ]
    }
   ],
   "source": [
    "#Создаем цикл, по алгоритму перемножения матриц, который выше\n",
    "#я делаю пока что именно так, чтобы усвоить алгоритм перемножения\n",
    "m = np.zeros((a1.shape))\n",
    "for i in range(lenght):\n",
    "    for j in range(lenght):\n",
    "        sum = 0\n",
    "        for k in range(lenght):\n",
    "            sum += a1[i,k] * b1[k,j]\n",
    "        m[i,j] = sum\n",
    "       \n",
    "print(m)"
   ]
  },
  {
   "cell_type": "code",
   "execution_count": 68,
   "metadata": {},
   "outputs": [],
   "source": [
    "#Теперь необходимо доработать алгоритм. чтобы функция получала список и выводила список списков\n",
    "#Иначе решение не зассчитывается\n",
    "a1=[[1,2,3],[4,5,6],[7,8,9]]\n",
    "b1=[[1,2,3],[4,5,6],[7,8,9]]"
   ]
  },
  {
   "cell_type": "code",
   "execution_count": 69,
   "metadata": {},
   "outputs": [
    {
     "data": {
      "text/plain": [
       "[[30, 36, 42], [66, 81, 96], [102, 126, 150]]"
      ]
     },
     "execution_count": 69,
     "metadata": {},
     "output_type": "execute_result"
    }
   ],
   "source": [
    "s=0               #сумма\n",
    "t=[]              #временная матрица\n",
    "m=[]              #конечная матрица\n",
    "r1=len(a1)        #количество строк в первой матрице\n",
    "c1=len(a1[0])     #Количество столбцов в 1   \n",
    "r2=c1             #и строк во 2ой матрице\n",
    "c2=len(b1[0])     # количество столбцов во 2ой матрице\n",
    "for z in range(0,r1):\n",
    "    for j in range(0,c2):\n",
    "        for i in range(0,c1):\n",
    "            s=s+a1[z][i]*b1[i][j]\n",
    "        t.append(s)\n",
    "        s=0\n",
    "    m.append(t)\n",
    "    t=[]           \n",
    "m"
   ]
  },
  {
   "cell_type": "code",
   "execution_count": 71,
   "metadata": {},
   "outputs": [],
   "source": [
    "#Заворачиваю все в функции, чтобы успешно сдать на он-лайн платформе\n",
    "import numpy as np\n",
    "\n",
    "def no_numpy_mult(a1,b1):\n",
    "    s=0     #сумма\n",
    "    t=[]    #временная матрица\n",
    "    m=[] # конечная матрица\n",
    "    r1=len(a1) #количество строк в первой матрице\n",
    "    c1=len(a1[0]) #Количество столбцов в 1   \n",
    "    r2=c1           #и строк во 2ой матрице\n",
    "    c2=len(b1[0])  # количество столбцов во 2ой матрице\n",
    "    for z in range(0,r1):\n",
    "        for j in range(0,c2):\n",
    "            for i in range(0,c1):\n",
    "                s=s+a1[z][i]*b1[i][j]\n",
    "            t.append(s)\n",
    "            s=0\n",
    "        m.append(t)\n",
    "        t=[]           \n",
    "    return m\n",
    "\n",
    "def numpy_mult(a1, b1):\n",
    "    result = np.dot(a1, b1)\n",
    "    return result"
   ]
  },
  {
   "cell_type": "code",
   "execution_count": 79,
   "metadata": {},
   "outputs": [],
   "source": [
    "a1 = np.random.sample((300, 300))\n",
    "b1 = np.random.sample((300, 300))"
   ]
  },
  {
   "cell_type": "code",
   "execution_count": 80,
   "metadata": {
    "id": "tktkYzUHK7lE"
   },
   "outputs": [
    {
     "name": "stdout",
     "output_type": "stream",
     "text": [
      "CPU times: total: 20.2 s\n",
      "Wall time: 20.3 s\n"
     ]
    }
   ],
   "source": [
    "%%time\n",
    "# засечем время работы функции без NumPy\n",
    "M1 = no_numpy_mult(a1,b1)"
   ]
  },
  {
   "cell_type": "code",
   "execution_count": 81,
   "metadata": {
    "id": "TmD0adgHK7lK"
   },
   "outputs": [
    {
     "name": "stdout",
     "output_type": "stream",
     "text": [
      "CPU times: total: 15.6 ms\n",
      "Wall time: 2 ms\n"
     ]
    }
   ],
   "source": [
    "%%time\n",
    "# засечем время работы функции с NumPy\n",
    "M2 = numpy_mult(a1, b1)"
   ]
  },
  {
   "cell_type": "markdown",
   "metadata": {},
   "source": [
    "- Решения коллег по курсу"
   ]
  },
  {
   "cell_type": "code",
   "execution_count": null,
   "metadata": {},
   "outputs": [],
   "source": [
    "import numpy as np\n",
    "\n",
    "def no_numpy_mult(first, second):\n",
    "    size = range(len(first[0]))\n",
    "    return [[sum([first[i][j]*second[j][k] for j in size]) for k in size] for i in size]\n",
    "\n",
    "def numpy_mult(first, second):\n",
    "    return np.dot(first, second)"
   ]
  },
  {
   "cell_type": "code",
   "execution_count": null,
   "metadata": {},
   "outputs": [],
   "source": [
    "import numpy as np\n",
    "\n",
    "def no_numpy_mult(first, second):\n",
    "    \n",
    "    def vecmul(A, B, coord):\n",
    "\t    return sum(list(map(lambda x, y: x*y, A[coord[0]], B[coord[1]])))\n",
    "    \n",
    "    def transpose(A):\n",
    "\t    return list(map(lambda j: list(map(lambda i: A[i][j], range(len(A)))), range(len(A))))\n",
    "\n",
    "    def matmul(A, B):\n",
    "\t    return list(map(lambda i: list(map(lambda x: vecmul(A, B, x), [[i, j] for j in range(len(A))] )), range(len(A)) ))\n",
    "    \n",
    "    return matmul(first, transpose(second))\n",
    "\n",
    "def numpy_mult(first, second):\n",
    "    result = first@second\n",
    "    return result"
   ]
  },
  {
   "cell_type": "markdown",
   "metadata": {
    "id": "2itTyTlcaHAu"
   },
   "source": [
    "### Задание 2"
   ]
  },
  {
   "cell_type": "markdown",
   "metadata": {
    "id": "BCemQSq-aEbO"
   },
   "source": [
    "Вам подаются на вход два вектора `a` и `b` в трехмерном пространстве. Заполните их случайными числами. Реализуйте их скалярное произведение с помощью  `NumPy` и без. Засеките время работы, как это показано в заданиях выше."
   ]
  },
  {
   "cell_type": "code",
   "execution_count": 216,
   "metadata": {
    "colab": {
     "base_uri": "https://localhost:8080/"
    },
    "id": "lWhr_gPSZ9o_",
    "outputId": "78800ae7-d578-4649-c233-0d3d72239185"
   },
   "outputs": [
    {
     "name": "stdout",
     "output_type": "stream",
     "text": [
      "[0.92344102 0.40478953 0.29718841] [0.97779617 0.66836302 0.84772486]\n"
     ]
    }
   ],
   "source": [
    "a = np.random.sample((1, 3))\n",
    "a = list(a)[0]\n",
    "b = np.random.sample((1, 3))\n",
    "b = list(b)[0]\n",
    "print(a, b)"
   ]
  },
  {
   "cell_type": "code",
   "execution_count": 239,
   "metadata": {
    "id": "GjlkcHIWZ_ae"
   },
   "outputs": [],
   "source": [
    "def scalar_product(a, b):\n",
    "    sum = 0\n",
    "    for i in range(len(a)):\n",
    "        sum += a[i]*b[i]\n",
    "    return sum"
   ]
  },
  {
   "cell_type": "code",
   "execution_count": 240,
   "metadata": {},
   "outputs": [
    {
     "data": {
      "text/plain": [
       "10"
      ]
     },
     "execution_count": 240,
     "metadata": {},
     "output_type": "execute_result"
    }
   ],
   "source": [
    "scalar_product(a, b)"
   ]
  },
  {
   "cell_type": "code",
   "execution_count": 229,
   "metadata": {
    "id": "C2M-OAp5Z_6a"
   },
   "outputs": [],
   "source": [
    "def np_scalar_product(a,b):\n",
    "    return np.dot(a,b)"
   ]
  },
  {
   "cell_type": "code",
   "execution_count": 241,
   "metadata": {},
   "outputs": [
    {
     "data": {
      "text/plain": [
       "10"
      ]
     },
     "execution_count": 241,
     "metadata": {},
     "output_type": "execute_result"
    }
   ],
   "source": [
    "np_scalar_product(a,b)"
   ]
  },
  {
   "cell_type": "code",
   "execution_count": null,
   "metadata": {},
   "outputs": [],
   "source": [
    "#Другие возможные решения\n",
    "import numpy as np\n",
    "\n",
    "def no_numpy_scalar(v1, v2):\n",
    "\n",
    "    result = sum(list(map(lambda x,y: x*y,v1,v2)))\n",
    "    return result\n",
    "\n",
    "def numpy_scalar (v1, v2):\n",
    "\n",
    "    result = v1@v2\n",
    "    return result"
   ]
  },
  {
   "cell_type": "code",
   "execution_count": 242,
   "metadata": {
    "id": "BOQfYf-2aCQJ",
    "scrolled": true
   },
   "outputs": [
    {
     "name": "stdout",
     "output_type": "stream",
     "text": [
      "CPU times: total: 0 ns\n",
      "Wall time: 0 ns\n",
      "CPU times: total: 0 ns\n",
      "Wall time: 0 ns\n"
     ]
    }
   ],
   "source": [
    "%time product_1 = scalar_product(a,b)\n",
    "%time product_2 = np_scalar_product(a,b)\n",
    "\n",
    "# проверим корректность:\n",
    "assert np.allclose(product_1, product_2)"
   ]
  },
  {
   "cell_type": "markdown",
   "metadata": {
    "id": "NHaHu6q1K7mH"
   },
   "source": [
    "Почему методы ***numpy*** оказываются эффективнее? Что вы можете сказать о скорости вычислений в NumPy?"
   ]
  },
  {
   "cell_type": "markdown",
   "metadata": {
    "id": "_A3p2s4eK7mI"
   },
   "source": [
    "**Ответ:** Скорость вычислений вектоных и матричных операций в NumPy сильно превосходит скорость вычислений без него, по большей части потому, что функции numpy работаю с массивами данных одного типа (числовыми), это позволяет реализовать встроенные функции numpy на C/C++, что, конечно, делает numpy быстрее (функции, которые вызывает Numpy для работы с числовыми данными, сильно оптимизированы именно под эти задачи, а сам Python просто гоняет интерпретатор по циклу в таких операциях, что является чуть ли не самым большим замедлением в работе интерпретатора)."
   ]
  },
  {
   "cell_type": "markdown",
   "metadata": {
    "id": "mJXeUuznK7lm"
   },
   "source": [
    "### Задание 3\n",
    "Напишите функцию, которая находим сумму четных диагональных элементов квадратной матрицы. Если таких элементов нет, то вывести `0`. Используйте библиотеку Numpy"
   ]
  },
  {
   "cell_type": "code",
   "execution_count": null,
   "metadata": {
    "id": "qYNiKbK47TTS"
   },
   "outputs": [],
   "source": [
    "def np_diag_2k(a):\n",
    "    \"\"\"  \n",
    "    a: np.array[m, m] --- первая матрица-аргумент\n",
    "    return c: float   --- сумма элементов массива а, принадлежащих диагонали и являющимися четными\n",
    "\n",
    "    Функция принимает на вход квадратную матрицу размерностью m x m и возвращает число,\n",
    "    равное сумме четных диагональных элементов этой квадратной матрицы\n",
    "\n",
    "    В реализации этой функции необходимо использовать функционал пакета numpy\n",
    "\n",
    "    \"\"\" \n",
    "    pass"
   ]
  },
  {
   "cell_type": "code",
   "execution_count": 2,
   "metadata": {
    "id": "BdInn8_j7TTU"
   },
   "outputs": [
    {
     "data": {
      "text/plain": [
       "array([[6, 6, 1, 9, 7],\n",
       "       [3, 1, 6, 4, 5],\n",
       "       [9, 3, 8, 3, 7],\n",
       "       [4, 3, 7, 6, 7],\n",
       "       [5, 2, 7, 7, 8]])"
      ]
     },
     "execution_count": 2,
     "metadata": {},
     "output_type": "execute_result"
    }
   ],
   "source": [
    "# зададим некоторую квадратную матрицу\n",
    "a = np.random.randint(1, 10, size=(5, 5))\n",
    "a"
   ]
  },
  {
   "cell_type": "code",
   "execution_count": 13,
   "metadata": {},
   "outputs": [],
   "source": [
    "#создаем маску значений\n",
    "mask = np.diag(a%2 != 1)"
   ]
  },
  {
   "cell_type": "code",
   "execution_count": 17,
   "metadata": {},
   "outputs": [
    {
     "data": {
      "text/plain": [
       "array([6, 8, 6, 8])"
      ]
     },
     "execution_count": 17,
     "metadata": {},
     "output_type": "execute_result"
    }
   ],
   "source": [
    "#Получаем нужные значения\n",
    "np.diag(a)[mask]"
   ]
  },
  {
   "cell_type": "code",
   "execution_count": 18,
   "metadata": {},
   "outputs": [
    {
     "data": {
      "text/plain": [
       "28"
      ]
     },
     "execution_count": 18,
     "metadata": {},
     "output_type": "execute_result"
    }
   ],
   "source": [
    "#Получаем сумму нужных значений\n",
    "np.diag(a)[mask].sum()"
   ]
  },
  {
   "cell_type": "code",
   "execution_count": 19,
   "metadata": {},
   "outputs": [],
   "source": [
    "#Заворачиваем все это в функцию\n",
    "import numpy as np       \n",
    "\n",
    "def diag_2k(a):\n",
    "    #param a: np.array[size, size]\n",
    "    #YOUR CODE\n",
    "    #создаем маску значений\n",
    "    mask = np.diag(a%2 != 1)\n",
    "    #Получаем нужные значения\n",
    "    np.diag(a)[mask]\n",
    "    #Получаем сумму нужных значений\n",
    "    result = np.diag(a)[mask].sum()\n",
    "    return result"
   ]
  },
  {
   "cell_type": "code",
   "execution_count": 20,
   "metadata": {},
   "outputs": [
    {
     "data": {
      "text/plain": [
       "28"
      ]
     },
     "execution_count": 20,
     "metadata": {},
     "output_type": "execute_result"
    }
   ],
   "source": [
    "diag_2k(a)"
   ]
  },
  {
   "cell_type": "code",
   "execution_count": 22,
   "metadata": {
    "id": "ZR97Nt9N7TTW"
   },
   "outputs": [
    {
     "name": "stdout",
     "output_type": "stream",
     "text": [
      "CPU times: total: 0 ns\n",
      "Wall time: 0 ns\n"
     ]
    },
    {
     "data": {
      "text/plain": [
       "28"
      ]
     },
     "execution_count": 22,
     "metadata": {},
     "output_type": "execute_result"
    }
   ],
   "source": [
    "%%time\n",
    "# засечем время работы функции с NumPy\n",
    "diag_2k(a)"
   ]
  },
  {
   "cell_type": "code",
   "execution_count": null,
   "metadata": {},
   "outputs": [],
   "source": [
    "#Еще варианты решений\n",
    "import numpy as np\n",
    "\n",
    "def diag_2k(a):\n",
    "    diag = a.diagonal()\n",
    "    return np.sum(diag[diag % 2 == 0])"
   ]
  },
  {
   "cell_type": "code",
   "execution_count": null,
   "metadata": {},
   "outputs": [],
   "source": [
    "import numpy as np \n",
    "\n",
    "def diag_2k(a):\n",
    "    result = np.trace(a*(a%2==0))\n",
    "    return result"
   ]
  },
  {
   "cell_type": "markdown",
   "metadata": {
    "id": "cdcRkFzQ7TTY"
   },
   "source": [
    "### Задание 4\n",
    "​\n",
    "На вход дан двумерный массив $X$. Напишите функцию, которая для каждой строчки $(x = (x_1, x_2, \\ldots, x_n)$ массива $X$ строит строчку $s = (s_1, s_2, \\ldots, s_n)$,  где $s_k=x_1+...+x_k$, а затем выдаёт массив из построенных строчек. Используйте библиотеку <code>numpy</code> (вам поможет функция <code>cumsum</code>). Выходом функции должен быть двумерный <code>numpy</code>-массив той же формы, что и $X$.\n",
    "​ "
   ]
  },
  {
   "cell_type": "code",
   "execution_count": null,
   "metadata": {
    "id": "REgL39ksK7lr"
   },
   "outputs": [],
   "source": [
    "def cumsum(A):\n",
    "    \"\"\"  \n",
    "    A: np.array[num_row, num_column]        --- матрица-аргумент\n",
    "    return S: np.array[num_row, num_column] --- выходная матрица кумулятивных сумм\n",
    "\n",
    "    Функция принимает на вход матрицу A размерностью n x m и возвращает \n",
    "    матрицу с той же размерностью n x m, i-ая строчка которой есть последовательность \n",
    "    кумулятивных сумм элементов i-ой строки матрицы A\n",
    "\n",
    "    В реализации этой функции необходимо использовать функционал пакета numpy\n",
    "\n",
    "    \"\"\" \n",
    "    pass"
   ]
  },
  {
   "cell_type": "code",
   "execution_count": 46,
   "metadata": {},
   "outputs": [
    {
     "data": {
      "text/plain": [
       "array([[1, 2, 3],\n",
       "       [4, 5, 6],\n",
       "       [7, 8, 9]])"
      ]
     },
     "execution_count": 46,
     "metadata": {},
     "output_type": "execute_result"
    }
   ],
   "source": [
    "a = np.array([[1,2,3], [4,5,6], [7,8,9]])\n",
    "a"
   ]
  },
  {
   "cell_type": "code",
   "execution_count": 55,
   "metadata": {},
   "outputs": [],
   "source": [
    "def cumsum(a):\n",
    "    return np.cumsum(a, axis=-1)"
   ]
  },
  {
   "cell_type": "code",
   "execution_count": 56,
   "metadata": {},
   "outputs": [
    {
     "data": {
      "text/plain": [
       "array([[ 1,  3,  6],\n",
       "       [ 4,  9, 15],\n",
       "       [ 7, 15, 24]], dtype=int32)"
      ]
     },
     "execution_count": 56,
     "metadata": {},
     "output_type": "execute_result"
    }
   ],
   "source": [
    "cumsum(a)"
   ]
  },
  {
   "cell_type": "code",
   "execution_count": 52,
   "metadata": {
    "id": "HcVN8MagK7lw"
   },
   "outputs": [
    {
     "name": "stdout",
     "output_type": "stream",
     "text": [
      "CPU times: total: 0 ns\n",
      "Wall time: 0 ns\n"
     ]
    }
   ],
   "source": [
    "# зададим некоторую последовательность и проверим ее на вашей функции. \n",
    "A = sps.uniform.rvs(size=10**3) \n",
    "\n",
    "%time S2 = cumsum(A)"
   ]
  },
  {
   "cell_type": "markdown",
   "metadata": {
    "id": "teVCPWZmK7l5"
   },
   "source": [
    "### Задание 5\n",
    "\n",
    "​\n",
    "Задан двумерный массив $X$. Для каждой строчки массива X необходимо сделать следующее преобразование.\n",
    "\n",
    "Пусть дана строчка x. Необходимо построить новый массив, где все элементы с нечетными индексами требуется заменить на число a (значение по умолчанию a=1). Все элементы с четными индексами нужно возвести в куб. Затем записать элементы в обратном порядке относительно их позиций. В конце требуется слить массив x с преобразованным x и вывести.\n",
    "\n",
    "Напишите функцию, которая выполняет данное преобразование для каждой строчки двумерного массива X. Массив X при этом должен остаться без изменений.\n",
    "\n",
    "Используйте библиотеку numpy.\n",
    "\n",
    "Пример:\n",
    "$X = [[100,200,300,400,500]]$ -> $[[100,a,300,a,500]]$ -> $[[500^3,a,300^3,a,100^3]]$ -> склеиваем -> $[[100,200,300,400,500,500^3,a,300^3,a,100^3]]$\n",
    "\n",
    "​"
   ]
  },
  {
   "cell_type": "code",
   "execution_count": null,
   "metadata": {
    "id": "0hmcvfDVK7l-"
   },
   "outputs": [],
   "source": [
    "from copy import copy\n",
    "def np_transformation(X, a=1):\n",
    "    \"\"\"  \n",
    "    X: np.array[num_row, num_column]          --- матрица-аргумент\n",
    "    a: float                                  --- значение для преобразования нечетных элементов строк в X\n",
    "    return S: np.array[num_row, num_column*2] --- матрица, где строки являются \n",
    "    сконкатенированными строками изначальной матрицы X со строками, являющимися их преобразованиями\n",
    "\n",
    "    Функция принимает на вход матрицу X размерностью n x m, число a и \n",
    "    возвращает  матрицу с размерностью n x m*2, i-ая строчка которой является склеенной\n",
    "    i-ой строкой X с ее преобразованием ее строки transformation(X[i]), записанном в обратном порядке, \n",
    "    где преобразование для числа k определено как:\n",
    "    transformation(k) = a if ind(k) % 2 == 0 else k**3\n",
    "\n",
    "    В реализации этой функции необходимо использовать функционал пакета numpy\n",
    "\n",
    "    \"\"\" \n",
    "    pass"
   ]
  },
  {
   "cell_type": "code",
   "execution_count": 209,
   "metadata": {},
   "outputs": [],
   "source": [
    "a = 1"
   ]
  },
  {
   "cell_type": "code",
   "execution_count": 221,
   "metadata": {},
   "outputs": [
    {
     "data": {
      "text/plain": [
       "array([[100, 200, 300, 400, 500]])"
      ]
     },
     "execution_count": 221,
     "metadata": {},
     "output_type": "execute_result"
    }
   ],
   "source": [
    "#Создаю первый массив\n",
    "X = np.array([[100,200,300,400,500]])\n",
    "X"
   ]
  },
  {
   "cell_type": "code",
   "execution_count": 222,
   "metadata": {},
   "outputs": [],
   "source": [
    "#Копирую массив, т.к. он не должен быть изменен по условию\n",
    "Y = X.copy()"
   ]
  },
  {
   "cell_type": "code",
   "execution_count": 223,
   "metadata": {},
   "outputs": [
    {
     "data": {
      "text/plain": [
       "array([[100,   1, 300,   1, 500]])"
      ]
     },
     "execution_count": 223,
     "metadata": {},
     "output_type": "execute_result"
    }
   ],
   "source": [
    "#Делаю каждый нечетный элемент равным а\n",
    "Y[:, 1::2] = a\n",
    "Y"
   ]
  },
  {
   "cell_type": "code",
   "execution_count": 225,
   "metadata": {},
   "outputs": [
    {
     "data": {
      "text/plain": [
       "array([[  1000000,         1,  27000000,         1, 125000000]])"
      ]
     },
     "execution_count": 225,
     "metadata": {},
     "output_type": "execute_result"
    }
   ],
   "source": [
    "#Возвожу каждый четный элемент в куб\n",
    "Y[:, ::2] = Y[:, ::2]**3\n",
    "Y"
   ]
  },
  {
   "cell_type": "code",
   "execution_count": 226,
   "metadata": {},
   "outputs": [
    {
     "data": {
      "text/plain": [
       "array([[125000000,         1,  27000000,         1,   1000000]])"
      ]
     },
     "execution_count": 226,
     "metadata": {},
     "output_type": "execute_result"
    }
   ],
   "source": [
    "#Разворачиваю массив\n",
    "Y = Y[:,::-1]\n",
    "Y"
   ]
  },
  {
   "cell_type": "code",
   "execution_count": 229,
   "metadata": {},
   "outputs": [],
   "source": [
    "#соединяю оба массива\n",
    "result=np.concatenate((X, Y), axis=1)"
   ]
  },
  {
   "cell_type": "code",
   "execution_count": 230,
   "metadata": {},
   "outputs": [
    {
     "data": {
      "text/plain": [
       "array([[      100,       200,       300,       400,       500, 125000000,\n",
       "                1,  27000000,         1,   1000000]])"
      ]
     },
     "execution_count": 230,
     "metadata": {},
     "output_type": "execute_result"
    }
   ],
   "source": [
    "#оцениваю результат\n",
    "result"
   ]
  },
  {
   "cell_type": "code",
   "execution_count": 231,
   "metadata": {},
   "outputs": [],
   "source": [
    "#Засовываю все это в функцию, чтобы сдать на Stepik\n",
    "import numpy as np\n",
    "\n",
    "def transform(X, a=1):\n",
    "    \"\"\"\n",
    "    param X: np.array[batch_size, n]\n",
    "    \"\"\"\n",
    "\n",
    "    Y = X.copy()\n",
    "    Y[:,1::2] = a\n",
    "    Y[:,::2] = Y[:,::2]**3\n",
    "    Y = Y[:,::-1]\n",
    "    result = np.concatenate((X, Y), axis=1)\n",
    "    return result"
   ]
  },
  {
   "cell_type": "code",
   "execution_count": 234,
   "metadata": {
    "id": "r2-JLMhxK7mE",
    "scrolled": true
   },
   "outputs": [
    {
     "name": "stdout",
     "output_type": "stream",
     "text": [
      "CPU times: total: 0 ns\n",
      "Wall time: 1e+03 µs\n"
     ]
    }
   ],
   "source": [
    "X = np.array([[i for i in range(1, 10, 2)]])\n",
    "%time S2 = transform(X, 5)"
   ]
  },
  {
   "cell_type": "code",
   "execution_count": null,
   "metadata": {},
   "outputs": [],
   "source": [
    "#Пара решений от коллег по курсу по классике\n",
    "import numpy as np\n",
    "\n",
    "def transform(X, a=1):\n",
    "    Y = np.copy(X)\n",
    "    Y[:,1::2] = a\n",
    "    Y[:,0::2] **= 3\n",
    "    return np.hstack((X, Y[:,::-1]))"
   ]
  },
  {
   "cell_type": "code",
   "execution_count": null,
   "metadata": {},
   "outputs": [],
   "source": [
    "import numpy as np\n",
    "\n",
    "def transform(X, a=1):\n",
    "    Y = X.copy()\n",
    "    Y[:, 1::2] = a\n",
    "    Y[:, ::2] **= 3\n",
    "    Y = Y[:, ::-1]\n",
    "    return np.concatenate((X, Y), axis=1)"
   ]
  },
  {
   "cell_type": "markdown",
   "metadata": {
    "id": "qa521fce7TTk"
   },
   "source": [
    "### Задание 6\n",
    "Написать функцию для кодирование массива (Run-length encoding). Все подряд идущие повторения элементов функция сжимает в один элемент и считает количество повторений этого элемента. Функция возвращает кортеж из двух векторов одинаковой длины. Первый содержит элементы, а второй — сколько раз их нужно повторить. \n",
    "\n",
    "Пример: encode(np.array([1, 2, 2, 3, 3, 1, 1, 5, 5, 2, 3, 3])) = (np.array[1, 2, 3, 1, 5, 2, 3]), np.array[1, 2, 2, 2, 2, 1, 2])"
   ]
  },
  {
   "cell_type": "code",
   "execution_count": null,
   "metadata": {
    "id": "4wD7OSVv7TTl"
   },
   "outputs": [],
   "source": [
    "def np_encode(a):\n",
    "    \"\"\"  \n",
    "    a: np.array[, n] --- вектор-аргумент длиной n\n",
    "    return (elems, repetitions): (np.array, np.array) --- выходной кортеж из вектора \n",
    "    элементов и вектора их количеств в подряд идущих повторениях\n",
    "\n",
    "    Функция принимает на вход вектор a длиной n, добавляет в вектор elem сжатые \n",
    "    в один элемент подряд идущие повторения элементов входного вектора a, в вектор \n",
    "    repetitions добавляет длины последовательностей подряд идущих повторений. \n",
    "    Затем функция возвращает кортеж векторов (elems, repetitions).\n",
    "\n",
    "    В реализации этой функции необходимо использовать функционал пакета numpy\n",
    "\n",
    "    \"\"\" \n",
    "    pass"
   ]
  },
  {
   "cell_type": "code",
   "execution_count": 193,
   "metadata": {},
   "outputs": [],
   "source": [
    "#я буду хитрить, т.к. мой следующий алгоритм не вытягивает последний элемент\n",
    "#Добавляю 0 к изначальному вектору\n",
    "X = np.array([1, 2, 2, 3, 3, 1, 1, 5, 5, 2, 3, 3])\n",
    "X = np.append(X, 0)"
   ]
  },
  {
   "cell_type": "code",
   "execution_count": 166,
   "metadata": {},
   "outputs": [
    {
     "name": "stdout",
     "output_type": "stream",
     "text": [
      "[1 2 3 1 5 2 3] [1 2 2 2 2 1 2]\n"
     ]
    }
   ],
   "source": [
    "#Следующим образом получаю необходимые последовательности\n",
    "count = 1\n",
    "npm1 = np.array([], dtype=np.int8)\n",
    "npm2 = np.array([], dtype=np.int8)\n",
    "for i in range(len(X)-1):\n",
    "    if X[i] != X[i+1]:\n",
    "        npm1 = np.append(npm1, X[i])\n",
    "        npm2 = np.append(npm2, count)\n",
    "        count = 1\n",
    "    else:\n",
    "        count += 1\n",
    "print(npm1, npm2)\n",
    "        \n",
    "        "
   ]
  },
  {
   "cell_type": "code",
   "execution_count": 194,
   "metadata": {},
   "outputs": [],
   "source": [
    "#Запаковываю все в функцию\n",
    "import numpy as np\n",
    "\n",
    "def encode(X):\n",
    "    X = np.append(X, 0)\n",
    "\n",
    "    count = 1\n",
    "    npm1 = np.array([], dtype=np.int8)\n",
    "    npm2 = np.array([], dtype=np.int8)\n",
    "    for i in range(len(X)-1):\n",
    "        if X[i] != X[i+1]:\n",
    "            npm1 = np.append(npm1, X[i])\n",
    "            npm2 = np.append(npm2, count)\n",
    "            count = 1\n",
    "        else:\n",
    "            count += 1\n",
    "    l = (npm1,npm2)\n",
    "    \n",
    "    return l"
   ]
  },
  {
   "cell_type": "code",
   "execution_count": 196,
   "metadata": {
    "id": "P7YxojET7TTn"
   },
   "outputs": [
    {
     "name": "stdout",
     "output_type": "stream",
     "text": [
      "CPU times: total: 0 ns\n",
      "Wall time: 0 ns\n"
     ]
    }
   ],
   "source": [
    "X = np.array([1, 2, 2, 3, 3, 1, 1, 5, 5, 2, 3, 3])\n",
    "\n",
    "%time x, num = encode(X)"
   ]
  },
  {
   "cell_type": "markdown",
   "metadata": {},
   "source": [
    "- Решения коллег по курсу"
   ]
  },
  {
   "cell_type": "code",
   "execution_count": null,
   "metadata": {},
   "outputs": [],
   "source": [
    "import numpy as np\n",
    "\n",
    "def encode(a):\n",
    "    is_new_in_row = np.array(a[1:] != a[:-1])\n",
    "    position = np.append(np.where(is_new_in_row), len(a) - 1)\n",
    "    lengths = np.diff(np.append(-1, position))\n",
    "    return (a[position], lengths)"
   ]
  },
  {
   "cell_type": "code",
   "execution_count": null,
   "metadata": {},
   "outputs": [],
   "source": [
    "import numpy as np\n",
    "\n",
    "def encode(a):\n",
    "    a = np.array(a)\n",
    "    numbers, counter, last = [], [], None\n",
    "    for num in a:\n",
    "        if num != last:\n",
    "            last = num\n",
    "            numbers.append(num)\n",
    "            counter.append(1)\n",
    "        else:\n",
    "            counter[-1] += 1\n",
    "    return numbers, counter"
   ]
  },
  {
   "cell_type": "code",
   "execution_count": null,
   "metadata": {},
   "outputs": [],
   "source": [
    "#Вот с этого решения особенно посмеялся\n",
    "import numpy as np\n",
    "\n",
    "def encode(a):\n",
    "    return np.array([1, 2, 3, 1, 5, 2, 3]), np.array([1, 2, 2, 2, 2, 1, 2])"
   ]
  }
 ],
 "metadata": {
  "colab": {
   "provenance": []
  },
  "kernelspec": {
   "display_name": "Python 3 (ipykernel)",
   "language": "python",
   "name": "python3"
  },
  "language_info": {
   "codemirror_mode": {
    "name": "ipython",
    "version": 3
   },
   "file_extension": ".py",
   "mimetype": "text/x-python",
   "name": "python",
   "nbconvert_exporter": "python",
   "pygments_lexer": "ipython3",
   "version": "3.9.12"
  }
 },
 "nbformat": 4,
 "nbformat_minor": 1
}
