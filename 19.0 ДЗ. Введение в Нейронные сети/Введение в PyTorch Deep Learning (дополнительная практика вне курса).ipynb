{
 "cells": [
  {
   "cell_type": "code",
   "execution_count": 2,
   "id": "326437e8",
   "metadata": {},
   "outputs": [],
   "source": [
    "import torch\n",
    "import numpy as np\n",
    "import warnings\n",
    "import matplotlib.pyplot as plt"
   ]
  },
  {
   "cell_type": "markdown",
   "id": "80aa502c",
   "metadata": {},
   "source": [
    "# pyTorch vs Numpy"
   ]
  },
  {
   "cell_type": "markdown",
   "id": "4dce3406",
   "metadata": {},
   "source": [
    "### Конвертация из numpy в torsh и обратно"
   ]
  },
  {
   "cell_type": "markdown",
   "id": "317dbaeb",
   "metadata": {},
   "source": [
    "#### Пример 1 - Вектор"
   ]
  },
  {
   "cell_type": "code",
   "execution_count": 12,
   "id": "d8766985",
   "metadata": {},
   "outputs": [],
   "source": [
    "#Создадим простой вектор\n",
    "vec = np.array([9,8,7])"
   ]
  },
  {
   "cell_type": "code",
   "execution_count": 13,
   "id": "b369d3dc",
   "metadata": {},
   "outputs": [
    {
     "data": {
      "text/plain": [
       "array([9, 8, 7])"
      ]
     },
     "execution_count": 13,
     "metadata": {},
     "output_type": "execute_result"
    }
   ],
   "source": [
    "vec"
   ]
  },
  {
   "cell_type": "code",
   "execution_count": 14,
   "id": "0f2c8f58",
   "metadata": {},
   "outputs": [
    {
     "data": {
      "text/plain": [
       "(3,)"
      ]
     },
     "execution_count": 14,
     "metadata": {},
     "output_type": "execute_result"
    }
   ],
   "source": [
    "vec.shape"
   ]
  },
  {
   "cell_type": "code",
   "execution_count": 15,
   "id": "1f217335",
   "metadata": {},
   "outputs": [],
   "source": [
    "#Переведем вектор в torch\n",
    "vec_tensor = torch.from_numpy(vec)"
   ]
  },
  {
   "cell_type": "code",
   "execution_count": 16,
   "id": "37bccea5",
   "metadata": {},
   "outputs": [
    {
     "data": {
      "text/plain": [
       "tensor([9, 8, 7], dtype=torch.int32)"
      ]
     },
     "execution_count": 16,
     "metadata": {},
     "output_type": "execute_result"
    }
   ],
   "source": [
    "vec_tensor"
   ]
  },
  {
   "cell_type": "code",
   "execution_count": 17,
   "id": "7d5b427d",
   "metadata": {},
   "outputs": [
    {
     "data": {
      "text/plain": [
       "torch.Size([3])"
      ]
     },
     "execution_count": 17,
     "metadata": {},
     "output_type": "execute_result"
    }
   ],
   "source": [
    "vec_tensor.shape"
   ]
  },
  {
   "cell_type": "code",
   "execution_count": 18,
   "id": "c17ad122",
   "metadata": {},
   "outputs": [
    {
     "data": {
      "text/plain": [
       "torch.Size([3])"
      ]
     },
     "execution_count": 18,
     "metadata": {},
     "output_type": "execute_result"
    }
   ],
   "source": [
    "vec_tensor.size()"
   ]
  },
  {
   "cell_type": "code",
   "execution_count": 19,
   "id": "7e426818",
   "metadata": {},
   "outputs": [
    {
     "data": {
      "text/plain": [
       "tensor([0, 0, 0], dtype=torch.int32)"
      ]
     },
     "execution_count": 19,
     "metadata": {},
     "output_type": "execute_result"
    }
   ],
   "source": [
    "#Занулим тензор-вектор\n",
    "vec_tensor -= vec_tensor\n",
    "vec_tensor"
   ]
  },
  {
   "cell_type": "code",
   "execution_count": 22,
   "id": "67f84fa9",
   "metadata": {},
   "outputs": [
    {
     "data": {
      "text/plain": [
       "array([0, 0, 0])"
      ]
     },
     "execution_count": 22,
     "metadata": {},
     "output_type": "execute_result"
    }
   ],
   "source": [
    "#вызовем исходный вектор из numpy\n",
    "#он так же зануляется, важно это помнить\n",
    "vec"
   ]
  },
  {
   "cell_type": "markdown",
   "id": "0a20adc5",
   "metadata": {},
   "source": [
    "- ВАЖНО! Изменяя тензор, ты меняешь и исходник!"
   ]
  },
  {
   "cell_type": "markdown",
   "id": "d093097d",
   "metadata": {},
   "source": [
    "#### Пример 2 - Матрица"
   ]
  },
  {
   "cell_type": "code",
   "execution_count": 26,
   "id": "9aef8b35",
   "metadata": {},
   "outputs": [
    {
     "data": {
      "text/plain": [
       "array([[1, 3, 9],\n",
       "       [5, 7, 3]])"
      ]
     },
     "execution_count": 26,
     "metadata": {},
     "output_type": "execute_result"
    }
   ],
   "source": [
    "#создадим матрицу\n",
    "matrix = np.array([[1,3,9],[5,7,3]])\n",
    "matrix"
   ]
  },
  {
   "cell_type": "code",
   "execution_count": 28,
   "id": "954db1e0",
   "metadata": {},
   "outputs": [
    {
     "data": {
      "text/plain": [
       "(2, 3)"
      ]
     },
     "execution_count": 28,
     "metadata": {},
     "output_type": "execute_result"
    }
   ],
   "source": [
    "matrix.shape"
   ]
  },
  {
   "cell_type": "code",
   "execution_count": 31,
   "id": "83ac01a5",
   "metadata": {},
   "outputs": [
    {
     "data": {
      "text/plain": [
       "tensor([[1, 3, 9],\n",
       "        [5, 7, 3]], dtype=torch.int32)"
      ]
     },
     "execution_count": 31,
     "metadata": {},
     "output_type": "execute_result"
    }
   ],
   "source": [
    "#переведем ее в тензор, аналогично вектору\n",
    "matrix_tensor = torch.from_numpy(matrix)\n",
    "matrix_tensor"
   ]
  },
  {
   "cell_type": "code",
   "execution_count": 36,
   "id": "6587999e",
   "metadata": {},
   "outputs": [
    {
     "data": {
      "text/plain": [
       "tensor([[[0.1269, 0.6172, 0.6103,  ..., 0.9800, 0.3115, 0.4825],\n",
       "         [0.6276, 0.4509, 0.9325,  ..., 0.7692, 0.9073, 0.7928],\n",
       "         [0.9187, 0.0165, 0.3081,  ..., 0.2476, 0.7615, 0.6460],\n",
       "         ...,\n",
       "         [0.8247, 0.6875, 0.4594,  ..., 0.7486, 0.2351, 0.1341],\n",
       "         [0.9465, 0.5525, 0.9754,  ..., 0.6821, 0.4893, 0.4236],\n",
       "         [0.5098, 0.4143, 0.9372,  ..., 0.2492, 0.6413, 0.0831]],\n",
       "\n",
       "        [[0.9883, 0.4773, 0.9992,  ..., 0.7255, 0.7487, 0.0913],\n",
       "         [0.4857, 0.6997, 0.8745,  ..., 0.3947, 0.9065, 0.4082],\n",
       "         [0.9040, 0.1325, 0.6632,  ..., 0.6700, 0.4610, 0.6634],\n",
       "         ...,\n",
       "         [0.5849, 0.3343, 0.3035,  ..., 0.5584, 0.7917, 0.9600],\n",
       "         [0.8998, 0.6757, 0.9579,  ..., 0.0501, 0.7202, 0.0459],\n",
       "         [0.0904, 0.9628, 0.4014,  ..., 0.8227, 0.1690, 0.3795]],\n",
       "\n",
       "        [[0.3658, 0.9552, 0.4298,  ..., 0.9076, 0.3004, 0.6513],\n",
       "         [0.9727, 0.5042, 0.1429,  ..., 0.3597, 0.6709, 0.2365],\n",
       "         [0.2996, 0.2788, 0.3454,  ..., 0.1269, 0.7238, 0.4957],\n",
       "         ...,\n",
       "         [0.9370, 0.8140, 0.0746,  ..., 0.9002, 0.7373, 0.1540],\n",
       "         [0.6823, 0.1152, 0.4077,  ..., 0.1862, 0.2375, 0.7118],\n",
       "         [0.9072, 0.4822, 0.4431,  ..., 0.0088, 0.4674, 0.0635]]])"
      ]
     },
     "execution_count": 36,
     "metadata": {},
     "output_type": "execute_result"
    }
   ],
   "source": [
    "#создадим картинку\n",
    "pic = torch.rand(3,224,224)\n",
    "pic"
   ]
  },
  {
   "cell_type": "code",
   "execution_count": 37,
   "id": "0d8a64c8",
   "metadata": {},
   "outputs": [
    {
     "data": {
      "text/plain": [
       "torch.Size([3, 224, 224])"
      ]
     },
     "execution_count": 37,
     "metadata": {},
     "output_type": "execute_result"
    }
   ],
   "source": [
    "pic.shape"
   ]
  },
  {
   "cell_type": "code",
   "execution_count": 38,
   "id": "5f055932",
   "metadata": {},
   "outputs": [],
   "source": [
    "#переведем матрицу обратно в numpy"
   ]
  },
  {
   "cell_type": "code",
   "execution_count": 39,
   "id": "c69052c0",
   "metadata": {},
   "outputs": [
    {
     "data": {
      "text/plain": [
       "array([[1, 3, 9],\n",
       "       [5, 7, 3]])"
      ]
     },
     "execution_count": 39,
     "metadata": {},
     "output_type": "execute_result"
    }
   ],
   "source": [
    "matrix_tensor.numpy()"
   ]
  },
  {
   "cell_type": "markdown",
   "id": "0ec1e757",
   "metadata": {},
   "source": [
    "### Создание случайных Тензоров"
   ]
  },
  {
   "cell_type": "code",
   "execution_count": 40,
   "id": "309105fd",
   "metadata": {},
   "outputs": [
    {
     "data": {
      "text/plain": [
       "tensor([0., 1., 2., 3.], dtype=torch.float64)"
      ]
     },
     "execution_count": 40,
     "metadata": {},
     "output_type": "execute_result"
    }
   ],
   "source": [
    "torch.tensor(np.array([0,1.,2,3]))"
   ]
  },
  {
   "cell_type": "markdown",
   "id": "ef45c853",
   "metadata": {},
   "source": [
    "Сейчас мы рассмотрим основные способы создание тензоров. У torch все строже, чем у numpy, поэтому необходимо указывать типы данных при создании. Именно это мы сейчас и рассмотрим."
   ]
  },
  {
   "cell_type": "code",
   "execution_count": 45,
   "id": "4da80266",
   "metadata": {},
   "outputs": [
    {
     "name": "stdout",
     "output_type": "stream",
     "text": [
      "torch.float32\n",
      "torch.float16\n",
      "torch.float64\n"
     ]
    }
   ],
   "source": [
    "#создаем тензоры 32, 16 и 64 бита\n",
    "print(\n",
    "    torch.FloatTensor().dtype,\\\n",
    "    torch.HalfTensor().dtype,\\\n",
    "    torch.DoubleTensor().dtype, sep = '\\n'\n",
    ")"
   ]
  },
  {
   "cell_type": "code",
   "execution_count": 47,
   "id": "2650b0c3",
   "metadata": {},
   "outputs": [
    {
     "name": "stdout",
     "output_type": "stream",
     "text": [
      "torch.int32\n",
      "torch.int16\n",
      "torch.int64\n"
     ]
    }
   ],
   "source": [
    "#рассмотрим целочисленные тензоры\n",
    "print(\n",
    "    torch.IntTensor().dtype,\\\n",
    "    torch.ShortTensor().dtype,\\\n",
    "    torch.LongTensor().dtype, sep = '\\n'\n",
    ")"
   ]
  },
  {
   "cell_type": "markdown",
   "id": "649b267c",
   "metadata": {},
   "source": [
    "- Научимся конвертировать типы\n",
    "\n",
    "Это необходимо нам, чтобы менять данные, если они подаются не в том виде"
   ]
  },
  {
   "cell_type": "code",
   "execution_count": 49,
   "id": "2bc0dcbb",
   "metadata": {},
   "outputs": [
    {
     "data": {
      "text/plain": [
       "torch.int32"
      ]
     },
     "execution_count": 49,
     "metadata": {},
     "output_type": "execute_result"
    }
   ],
   "source": [
    "#наша матрица\n",
    "matrix_tensor.dtype"
   ]
  },
  {
   "cell_type": "markdown",
   "id": "a91efce7",
   "metadata": {},
   "source": [
    "- первый способ - .type_as()"
   ]
  },
  {
   "cell_type": "code",
   "execution_count": 52,
   "id": "b81fdddf",
   "metadata": {},
   "outputs": [
    {
     "data": {
      "text/plain": [
       "torch.float32"
      ]
     },
     "execution_count": 52,
     "metadata": {},
     "output_type": "execute_result"
    }
   ],
   "source": [
    "matrix_tensor = matrix_tensor.type_as(torch.FloatTensor())\n",
    "matrix_tensor.dtype"
   ]
  },
  {
   "cell_type": "markdown",
   "id": "f8a12b24",
   "metadata": {},
   "source": [
    "- второй способ - .to()"
   ]
  },
  {
   "cell_type": "code",
   "execution_count": 58,
   "id": "99163392",
   "metadata": {},
   "outputs": [],
   "source": [
    "#создадим новый тензор для наглядности\n",
    "tensor_ = torch.tensor(np.array([0,1.,2,3]))"
   ]
  },
  {
   "cell_type": "code",
   "execution_count": 59,
   "id": "6ee03ed3",
   "metadata": {},
   "outputs": [
    {
     "data": {
      "text/plain": [
       "torch.float64"
      ]
     },
     "execution_count": 59,
     "metadata": {},
     "output_type": "execute_result"
    }
   ],
   "source": [
    "#Посмотрим его тип\n",
    "tensor_.dtype"
   ]
  },
  {
   "cell_type": "code",
   "execution_count": 56,
   "id": "fddbecd6",
   "metadata": {},
   "outputs": [
    {
     "data": {
      "text/plain": [
       "tensor([0., 1., 2., 3.])"
      ]
     },
     "execution_count": 56,
     "metadata": {},
     "output_type": "execute_result"
    }
   ],
   "source": [
    "#Преобразуем\n",
    "tensor_.to(torch.FloatTensor())"
   ]
  },
  {
   "cell_type": "code",
   "execution_count": 60,
   "id": "021e4d4c",
   "metadata": {},
   "outputs": [
    {
     "data": {
      "text/plain": [
       "torch.float64"
      ]
     },
     "execution_count": 60,
     "metadata": {},
     "output_type": "execute_result"
    }
   ],
   "source": [
    "#Проверим\n",
    "tensor_.dtype"
   ]
  },
  {
   "cell_type": "code",
   "execution_count": 63,
   "id": "51ec63d0",
   "metadata": {},
   "outputs": [
    {
     "data": {
      "text/plain": [
       "tensor([6.4805e-10, 6.3010e-10, 6.6376e-07, 6.8357e-04, 2.7098e-09, 1.0859e-05,\n",
       "        6.4097e-10, 1.4580e-19, 1.1495e+24, 3.0956e-18, 3.7748e-08, 1.7585e-04,\n",
       "        1.3443e+22, 1.7156e-07, 4.2531e-05, 2.7180e+23, 1.7079e-07, 2.1363e-07,\n",
       "        3.0681e-18, 2.0552e+32, 1.8755e+28, 3.1093e-18, 2.0552e+32, 1.8755e+28,\n",
       "        3.1093e-18, 1.2845e+31, 1.8395e+25, 6.1963e-04, 2.0768e+20, 2.6845e+23,\n",
       "        2.1955e-04, 2.0778e+20, 3.3586e-06, 2.0892e+20, 1.0514e-05, 4.1300e-08,\n",
       "        2.3076e-12, 1.8788e+31, 7.9303e+34, 6.1949e-04, 1.8590e+34, 7.7767e+31])"
      ]
     },
     "execution_count": 63,
     "metadata": {},
     "output_type": "execute_result"
    }
   ],
   "source": [
    "#Создаем рандомный тензор\n",
    "torch.FloatTensor(42)"
   ]
  },
  {
   "cell_type": "code",
   "execution_count": 66,
   "id": "b52c49f9",
   "metadata": {},
   "outputs": [
    {
     "data": {
      "text/plain": [
       "torch.Size([42])"
      ]
     },
     "execution_count": 66,
     "metadata": {},
     "output_type": "execute_result"
    }
   ],
   "source": [
    "torch.FloatTensor(42).shape"
   ]
  },
  {
   "cell_type": "code",
   "execution_count": 67,
   "id": "ceceda96",
   "metadata": {},
   "outputs": [
    {
     "data": {
      "text/plain": [
       "tensor([[1.],\n",
       "        [1.]])"
      ]
     },
     "execution_count": 67,
     "metadata": {},
     "output_type": "execute_result"
    }
   ],
   "source": [
    "torch.ones(2,1)"
   ]
  },
  {
   "cell_type": "code",
   "execution_count": 68,
   "id": "851614f0",
   "metadata": {},
   "outputs": [
    {
     "data": {
      "text/plain": [
       "tensor([[0.],\n",
       "        [0.]])"
      ]
     },
     "execution_count": 68,
     "metadata": {},
     "output_type": "execute_result"
    }
   ],
   "source": [
    "torch.zeros(2,1)"
   ]
  },
  {
   "cell_type": "markdown",
   "id": "84efb677",
   "metadata": {},
   "source": [
    "### Инициализация из заданных распределений"
   ]
  },
  {
   "cell_type": "code",
   "execution_count": 70,
   "id": "ea77c30d",
   "metadata": {},
   "outputs": [
    {
     "data": {
      "text/plain": [
       "tensor([[[ 1.3643, -0.5046, -0.6052,  1.7805],\n",
       "         [-0.0981, -0.5422, -0.1481,  0.8549]],\n",
       "\n",
       "        [[ 0.0997, -0.5488,  1.1891, -0.8772],\n",
       "         [-0.3948, -0.5683,  0.5613,  1.7160]],\n",
       "\n",
       "        [[-2.1647, -1.0980, -0.4289, -0.2725],\n",
       "         [ 0.9276, -1.1354, -0.6033,  0.9179]],\n",
       "\n",
       "        [[-0.2740, -0.0926,  1.5912,  1.3064],\n",
       "         [-0.0807, -0.2115, -0.0717,  0.0378]]])"
      ]
     },
     "execution_count": 70,
     "metadata": {},
     "output_type": "execute_result"
    }
   ],
   "source": [
    "x = torch.randn((4,2,4))\n",
    "x"
   ]
  },
  {
   "cell_type": "code",
   "execution_count": 71,
   "id": "a322c43b",
   "metadata": {},
   "outputs": [
    {
     "data": {
      "text/plain": [
       "torch.Size([4, 2, 4])"
      ]
     },
     "execution_count": 71,
     "metadata": {},
     "output_type": "execute_result"
    }
   ],
   "source": [
    "x.size()"
   ]
  },
  {
   "cell_type": "code",
   "execution_count": 72,
   "id": "114afb63",
   "metadata": {},
   "outputs": [
    {
     "data": {
      "text/plain": [
       "tensor([[[1.5096, 0.3955, 0.0030, 1.9485],\n",
       "         [0.6860, 0.4908, 0.9205, 1.4795]],\n",
       "\n",
       "        [[1.8188, 1.2462, 1.7960, 0.0853],\n",
       "         [0.3148, 0.0214, 0.9815, 1.2002]],\n",
       "\n",
       "        [[1.5308, 0.9992, 0.6958, 0.1651],\n",
       "         [0.2682, 1.5167, 0.1053, 1.6110]],\n",
       "\n",
       "        [[0.1255, 0.4281, 0.2509, 1.5940],\n",
       "         [1.2263, 1.0968, 0.2995, 0.2518]]])"
      ]
     },
     "execution_count": 72,
     "metadata": {},
     "output_type": "execute_result"
    }
   ],
   "source": [
    "#приведем наш тензор к равномерному распределению\n",
    "x.uniform_(0,2)"
   ]
  },
  {
   "cell_type": "markdown",
   "id": "37fc9596",
   "metadata": {},
   "source": [
    "- ВАЖНО! функция - .uniform_() имеет нижнее подчеркивание _. Такие функции производят изменения inplace"
   ]
  },
  {
   "cell_type": "code",
   "execution_count": 73,
   "id": "578fff34",
   "metadata": {},
   "outputs": [
    {
     "data": {
      "text/plain": [
       "tensor([[[1., 1., 1., 1.],\n",
       "         [0., 1., 1., 0.]],\n",
       "\n",
       "        [[0., 1., 0., 1.],\n",
       "         [0., 1., 1., 1.]],\n",
       "\n",
       "        [[1., 1., 0., 0.],\n",
       "         [0., 1., 0., 1.]],\n",
       "\n",
       "        [[1., 0., 0., 1.],\n",
       "         [0., 1., 0., 0.]]])"
      ]
     },
     "execution_count": 73,
     "metadata": {},
     "output_type": "execute_result"
    }
   ],
   "source": [
    "#ПРиведем к распределению бернулли\n",
    "x.bernoulli_(p=0.5)"
   ]
  },
  {
   "cell_type": "code",
   "execution_count": 74,
   "id": "10e37aec",
   "metadata": {},
   "outputs": [
    {
     "data": {
      "text/plain": [
       "tensor([[[ 0.7006,  0.0585, -0.3159,  0.4419],\n",
       "         [ 0.5647,  0.7964, -0.3778, -0.8843]],\n",
       "\n",
       "        [[-0.2794, -0.1907,  0.4743, -2.4615],\n",
       "         [ 0.7641, -0.7115, -0.2612,  1.1438]],\n",
       "\n",
       "        [[-0.4735,  0.0412, -0.9434,  1.0634],\n",
       "         [-0.6443, -0.6359, -0.1736,  1.0178]],\n",
       "\n",
       "        [[-0.1418, -0.4358, -0.9070, -0.5860],\n",
       "         [-1.7334, -0.9684, -1.7837,  0.1335]]])"
      ]
     },
     "execution_count": 74,
     "metadata": {},
     "output_type": "execute_result"
    }
   ],
   "source": [
    "x.normal_(mean=0, std=1)"
   ]
  },
  {
   "cell_type": "markdown",
   "id": "93b8d571",
   "metadata": {},
   "source": [
    "### Основные операции над тензорами"
   ]
  },
  {
   "cell_type": "code",
   "execution_count": 75,
   "id": "4510605d",
   "metadata": {},
   "outputs": [],
   "source": [
    "#создадим два тензора"
   ]
  },
  {
   "cell_type": "code",
   "execution_count": 78,
   "id": "c9260ca5",
   "metadata": {},
   "outputs": [
    {
     "data": {
      "text/plain": [
       "(tensor([[1., 1., 1.],\n",
       "         [1., 1., 1.]]),\n",
       " tensor([[-1., -1., -1.],\n",
       "         [-1., -1., -1.]]))"
      ]
     },
     "execution_count": 78,
     "metadata": {},
     "output_type": "execute_result"
    }
   ],
   "source": [
    "x = torch.FloatTensor([[1,1,1],[1,1,1]])\n",
    "y = torch.FloatTensor([[-1,-1,-1],[-1,-1,-1]])\n",
    "x, y"
   ]
  },
  {
   "cell_type": "code",
   "execution_count": 77,
   "id": "23dee8cc",
   "metadata": {},
   "outputs": [
    {
     "data": {
      "text/plain": [
       "tensor([[0., 0., 0.],\n",
       "        [0., 0., 0.]])"
      ]
     },
     "execution_count": 77,
     "metadata": {},
     "output_type": "execute_result"
    }
   ],
   "source": [
    "#сложение\n",
    "x + y"
   ]
  },
  {
   "cell_type": "code",
   "execution_count": 84,
   "id": "a2f965a4",
   "metadata": {},
   "outputs": [
    {
     "data": {
      "text/plain": [
       "tensor([[0., 0., 0.],\n",
       "        [0., 0., 0.]])"
      ]
     },
     "execution_count": 84,
     "metadata": {},
     "output_type": "execute_result"
    }
   ],
   "source": [
    "x.add(y)"
   ]
  },
  {
   "cell_type": "code",
   "execution_count": 85,
   "id": "c097dec1",
   "metadata": {},
   "outputs": [
    {
     "data": {
      "text/plain": [
       "tensor([[0., 0., 0.],\n",
       "        [0., 0., 0.]])"
      ]
     },
     "execution_count": 85,
     "metadata": {},
     "output_type": "execute_result"
    }
   ],
   "source": [
    "# если мы поставим _ , то изменим наш x\n",
    "x.add_(y)"
   ]
  },
  {
   "cell_type": "code",
   "execution_count": 86,
   "id": "75377081",
   "metadata": {},
   "outputs": [
    {
     "data": {
      "text/plain": [
       "tensor([[0., 0., 0.],\n",
       "        [0., 0., 0.]])"
      ]
     },
     "execution_count": 86,
     "metadata": {},
     "output_type": "execute_result"
    }
   ],
   "source": [
    "x"
   ]
  },
  {
   "cell_type": "code",
   "execution_count": 88,
   "id": "15acaffa",
   "metadata": {},
   "outputs": [],
   "source": [
    "#инициализируем снова наш x\n",
    "x = torch.FloatTensor([[1,1,1],[1,1,1]])"
   ]
  },
  {
   "cell_type": "code",
   "execution_count": 89,
   "id": "4d0b2bd5",
   "metadata": {},
   "outputs": [
    {
     "data": {
      "text/plain": [
       "tensor([[2., 2., 2.],\n",
       "        [2., 2., 2.]])"
      ]
     },
     "execution_count": 89,
     "metadata": {},
     "output_type": "execute_result"
    }
   ],
   "source": [
    "#вычитание\n",
    "x - y"
   ]
  },
  {
   "cell_type": "code",
   "execution_count": 92,
   "id": "42d8d899",
   "metadata": {},
   "outputs": [
    {
     "data": {
      "text/plain": [
       "tensor([[2., 2., 2.],\n",
       "        [2., 2., 2.]])"
      ]
     },
     "execution_count": 92,
     "metadata": {},
     "output_type": "execute_result"
    }
   ],
   "source": [
    "x.sub(y)"
   ]
  },
  {
   "cell_type": "code",
   "execution_count": 90,
   "id": "b23830c0",
   "metadata": {},
   "outputs": [
    {
     "data": {
      "text/plain": [
       "tensor([[-1., -1., -1.],\n",
       "        [-1., -1., -1.]])"
      ]
     },
     "execution_count": 90,
     "metadata": {},
     "output_type": "execute_result"
    }
   ],
   "source": [
    "#умножение\n",
    "x * y"
   ]
  },
  {
   "cell_type": "code",
   "execution_count": 93,
   "id": "5265fb03",
   "metadata": {},
   "outputs": [
    {
     "data": {
      "text/plain": [
       "tensor([[-1., -1., -1.],\n",
       "        [-1., -1., -1.]])"
      ]
     },
     "execution_count": 93,
     "metadata": {},
     "output_type": "execute_result"
    }
   ],
   "source": [
    "x.mul(y)"
   ]
  },
  {
   "cell_type": "code",
   "execution_count": 91,
   "id": "3de5ca40",
   "metadata": {},
   "outputs": [
    {
     "data": {
      "text/plain": [
       "tensor([[-1., -1., -1.],\n",
       "        [-1., -1., -1.]])"
      ]
     },
     "execution_count": 91,
     "metadata": {},
     "output_type": "execute_result"
    }
   ],
   "source": [
    "#деление\n",
    "x / y"
   ]
  },
  {
   "cell_type": "code",
   "execution_count": 94,
   "id": "fb8160a3",
   "metadata": {},
   "outputs": [
    {
     "data": {
      "text/plain": [
       "tensor([[-1., -1., -1.],\n",
       "        [-1., -1., -1.]])"
      ]
     },
     "execution_count": 94,
     "metadata": {},
     "output_type": "execute_result"
    }
   ],
   "source": [
    "x.div(y)"
   ]
  },
  {
   "cell_type": "markdown",
   "id": "74dad15b",
   "metadata": {},
   "source": [
    "- ко всем, вышеперечисленным операциям можно добавить _ и провести их inplace"
   ]
  },
  {
   "cell_type": "code",
   "execution_count": 107,
   "id": "c18fc4e3",
   "metadata": {},
   "outputs": [],
   "source": [
    "x = torch.FloatTensor([[1,1,1],[1,1,2]])\n",
    "y = torch.FloatTensor([[-1,1,1],[2,-1,-1]])"
   ]
  },
  {
   "cell_type": "code",
   "execution_count": 108,
   "id": "cffca69f",
   "metadata": {},
   "outputs": [
    {
     "data": {
      "text/plain": [
       "tensor([[ True, False, False],\n",
       "        [False,  True,  True]])"
      ]
     },
     "execution_count": 108,
     "metadata": {},
     "output_type": "execute_result"
    }
   ],
   "source": [
    "#сравнение\n",
    "x > y"
   ]
  },
  {
   "cell_type": "code",
   "execution_count": 109,
   "id": "06e3cc91",
   "metadata": {},
   "outputs": [
    {
     "data": {
      "text/plain": [
       "tensor([[ True, False, False],\n",
       "        [ True,  True,  True]])"
      ]
     },
     "execution_count": 109,
     "metadata": {},
     "output_type": "execute_result"
    }
   ],
   "source": [
    "x != y"
   ]
  },
  {
   "cell_type": "code",
   "execution_count": 110,
   "id": "99ba9b21",
   "metadata": {},
   "outputs": [
    {
     "data": {
      "text/plain": [
       "tensor([[False,  True,  True],\n",
       "        [False, False, False]])"
      ]
     },
     "execution_count": 110,
     "metadata": {},
     "output_type": "execute_result"
    }
   ],
   "source": [
    "x == y"
   ]
  },
  {
   "cell_type": "markdown",
   "id": "3bbcd326",
   "metadata": {},
   "source": [
    "- в последствии сравнения можно использовать как маску"
   ]
  },
  {
   "cell_type": "code",
   "execution_count": 111,
   "id": "3d8307ed",
   "metadata": {},
   "outputs": [],
   "source": [
    "mask = x > y"
   ]
  },
  {
   "cell_type": "code",
   "execution_count": 112,
   "id": "4ba8a23c",
   "metadata": {},
   "outputs": [
    {
     "data": {
      "text/plain": [
       "tensor([1., 1., 2.])"
      ]
     },
     "execution_count": 112,
     "metadata": {},
     "output_type": "execute_result"
    }
   ],
   "source": [
    "#Получаем только те позиции. которые больше\n",
    "x[mask]"
   ]
  },
  {
   "cell_type": "code",
   "execution_count": 113,
   "id": "00f4e269",
   "metadata": {},
   "outputs": [
    {
     "data": {
      "text/plain": [
       "tensor([[1., 1., 1.],\n",
       "        [2., 1., 1.]])"
      ]
     },
     "execution_count": 113,
     "metadata": {},
     "output_type": "execute_result"
    }
   ],
   "source": [
    "y.abs()"
   ]
  },
  {
   "cell_type": "code",
   "execution_count": 119,
   "id": "defa8f1f",
   "metadata": {},
   "outputs": [],
   "source": [
    "#Посмотрим на скалярное произведение\n",
    "x = torch.FloatTensor([[1,2,3]])\n",
    "y = torch.FloatTensor([[-1,2,-3]])"
   ]
  },
  {
   "cell_type": "code",
   "execution_count": 116,
   "id": "b2803b42",
   "metadata": {},
   "outputs": [
    {
     "data": {
      "text/plain": [
       "tensor([[-6.]])"
      ]
     },
     "execution_count": 116,
     "metadata": {},
     "output_type": "execute_result"
    }
   ],
   "source": [
    "x @ y.t()"
   ]
  },
  {
   "cell_type": "code",
   "execution_count": 118,
   "id": "19498733",
   "metadata": {},
   "outputs": [
    {
     "data": {
      "text/plain": [
       "tensor([[-6.]])"
      ]
     },
     "execution_count": 118,
     "metadata": {},
     "output_type": "execute_result"
    }
   ],
   "source": [
    "x.mm(y.t())"
   ]
  },
  {
   "cell_type": "code",
   "execution_count": null,
   "id": "814b93e1",
   "metadata": {},
   "outputs": [],
   "source": []
  },
  {
   "cell_type": "markdown",
   "id": "a9bf8914",
   "metadata": {},
   "source": [
    "- Выводы: большинство операций, которые есть в Numpy, можно найти и в torch"
   ]
  },
  {
   "cell_type": "markdown",
   "id": "21b08508",
   "metadata": {},
   "source": [
    "### Использование агрегаций"
   ]
  },
  {
   "cell_type": "code",
   "execution_count": null,
   "id": "0bc28f2f",
   "metadata": {},
   "outputs": [],
   "source": []
  }
 ],
 "metadata": {
  "kernelspec": {
   "display_name": "Python 3 (ipykernel)",
   "language": "python",
   "name": "python3"
  },
  "language_info": {
   "codemirror_mode": {
    "name": "ipython",
    "version": 3
   },
   "file_extension": ".py",
   "mimetype": "text/x-python",
   "name": "python",
   "nbconvert_exporter": "python",
   "pygments_lexer": "ipython3",
   "version": "3.9.12"
  }
 },
 "nbformat": 4,
 "nbformat_minor": 5
}
