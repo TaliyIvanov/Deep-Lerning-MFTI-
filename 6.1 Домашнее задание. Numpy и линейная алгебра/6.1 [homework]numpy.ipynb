{
 "cells": [
  {
   "cell_type": "markdown",
   "metadata": {
    "id": "KxIquH6GK7kt"
   },
   "source": [
    "<p style=\"align: center;\"><img align=center src=\"https://s8.hostingkartinok.com/uploads/images/2018/08/308b49fcfbc619d629fe4604bceb67ac.jpg\" width=500 height=450/></p>\n",
    "\n",
    "\n",
    "<h3 style=\"text-align: center;\"><b>Школа глубокого обучения ФПМИ МФТИ, осень 2021</b></h3>\n",
    "\n",
    "## Домашнее задание: библиотека Numpy и линейная алгебра\n"
   ]
  },
  {
   "cell_type": "code",
   "execution_count": 173,
   "metadata": {
    "id": "YEJ8DQ4QK7kx"
   },
   "outputs": [],
   "source": [
    "import numpy as np\n",
    "import random\n",
    "import scipy.stats as sps"
   ]
  },
  {
   "cell_type": "markdown",
   "metadata": {
    "id": "hYXhVX0eK7k2"
   },
   "source": [
    "### Задание 1\n",
    "В первой задаче вам предлагается перемножить две квадратные матрицы двумя способами -- без использования пакета ***numpy*** и с ним."
   ]
  },
  {
   "cell_type": "code",
   "execution_count": 13,
   "metadata": {
    "colab": {
     "base_uri": "https://localhost:8080/"
    },
    "id": "zJR8EANzK7k3",
    "outputId": "2f85a0d3-be9d-411b-c35f-09590130f3c9"
   },
   "outputs": [
    {
     "name": "stdout",
     "output_type": "stream",
     "text": [
      "2\n",
      "2\n",
      "(100, 100)\n",
      "(100, 100)\n",
      "[[0.39064099 0.12359726 0.78471796 ... 0.89796207 0.6943304  0.59477217]\n",
      " [0.44814171 0.73954647 0.64412948 ... 0.97456915 0.56460599 0.61592943]\n",
      " [0.24705175 0.36697852 0.33490678 ... 0.63499519 0.49627401 0.60365243]\n",
      " ...\n",
      " [0.5344455  0.98193331 0.93963145 ... 0.59099057 0.37924902 0.27301286]\n",
      " [0.23823464 0.55911893 0.00557032 ... 0.0177707  0.34307079 0.68128215]\n",
      " [0.47057268 0.75108168 0.21919491 ... 0.12262338 0.01422972 0.45081735]]\n",
      "[[0.14345925 0.14624804 0.32689188 ... 0.16641975 0.23292889 0.72929336]\n",
      " [0.35471595 0.43305548 0.52086534 ... 0.05599996 0.31991377 0.00877629]\n",
      " [0.07042987 0.92922602 0.17963952 ... 0.74568712 0.42820574 0.56417689]\n",
      " ...\n",
      " [0.95323062 0.12532994 0.9368445  ... 0.83193659 0.24775998 0.74658231]\n",
      " [0.77795069 0.00743159 0.13325601 ... 0.51117669 0.68740877 0.94011207]\n",
      " [0.50264396 0.11957863 0.39664709 ... 0.74669675 0.0551051  0.39698094]]\n"
     ]
    }
   ],
   "source": [
    "# Для генерации матриц используем фукнцию random -- она используется для генерации случайных объектов \n",
    "# функция sample создает случайную выборку. В качестве аргумента ей передается кортеж (i,j),  \n",
    "# здесь i -- число строк, j -- число столбцов.\n",
    "a = np.random.sample((100, 100))\n",
    "b = np.random.sample((100, 100))\n",
    "\n",
    "# Выведите размерность (ранг) каждой матрицы с помощью функции ndim.\n",
    "# Используйте функцию shape, что она вывела?\n",
    "print(a.ndim)\n",
    "print(b.ndim)\n",
    "print(a.shape) #вывела количество строк и столбцов\n",
    "print(a.shape)\n",
    "print(a)\n",
    "print(b)"
   ]
  },
  {
   "cell_type": "markdown",
   "metadata": {},
   "source": [
    "Алгоритм умножения матриц\n",
    "Умножаем элементы в строках первой матрицы на элементы в столбцах второй матрицы.\n",
    "\n",
    "1. Умножаем элементы первой строки на элементы первого столбца.\n",
    "- Умножаем первый элемент первой строки на первый элемент первого столбца.\n",
    "- Умножаем второй элемент первой строки на второй элемент первого столбца.\n",
    "- Делаем то же самое с каждым элементом, пока не дойдем до конца как первой строки первой матрицы, так и первого столбца второй матрицы.\n",
    "- Складываем полученные произведения.\n",
    "- Полученный результат будет первым элементом первой строки произведения матриц.\n",
    "2. Умножаем элементы первой строки первой матрицы на элементы второго столбца второй матрицы.\n",
    "- Умножаем первый элемент первой строки на первый элемент второго столбца.\n",
    "- Умножаем второй элемент первой строки на второй элемент второго столбца.\n",
    "- Делаем то же самое с каждым элементом, пока не дойдем до конца как первой строки первой матрицы, так и второго столбца второй матрицы.\n",
    "- Складываем полученные произведения.\n",
    "- Полученный результат будет вторым элементом первой строки произведения матриц.\n",
    "3. Применяя тот же самый алгоритм, умножаем элементы первой строки первой матрицы на элементы остальных столбцов второй матрицы. Полученные числа составят первую строку вычисляемой матрицы.\n",
    "4. Вторая строка вычисляемой матрицы находится аналогично умножением элементов второй строки первой матрицы на элементы каждого столбца второй матрицы: результаты записываются в новую матрицу после каждого суммирования.\n",
    "5. Делаем это с каждой строкой первой матрицы, пока все строки новой матрицы не будут заполнены."
   ]
  },
  {
   "cell_type": "code",
   "execution_count": null,
   "metadata": {
    "id": "bkWCI4TPK7k8"
   },
   "outputs": [],
   "source": [
    "def mult(a, b):\n",
    "    \"\"\"  \n",
    "    a: list of \"size\" lists, each contains \"size\" floats --- первая матрица-аргумент\n",
    "    b: list of \"size\" lists, each contains \"size\" floats --- вторая матрица-аргумент\n",
    "    return c: list of \"size\" lists, each contains \"size\" floats --- матрица, являющаяся результатом умножения матриц a и b\n",
    "    \n",
    "    Функция принимает на вход две матрицы: a и b размерностью size x size\n",
    "    Возвращает матрицу их произведения a * b = c \n",
    "\n",
    "    Реализуйте умножение матриц без использования функций из пакета numpy\n",
    "    \"\"\"\n",
    "    pass"
   ]
  },
  {
   "cell_type": "code",
   "execution_count": 117,
   "metadata": {},
   "outputs": [],
   "source": [
    "a1 = np.random.sample((5, 5))\n",
    "b1 = np.random.sample((5, 5))"
   ]
  },
  {
   "cell_type": "code",
   "execution_count": 190,
   "metadata": {},
   "outputs": [
    {
     "data": {
      "text/plain": [
       "(array([[0.11078449, 0.13940859, 0.58131652, 0.61072248, 0.85611002],\n",
       "        [0.89756856, 0.00656832, 0.46016768, 0.18093796, 0.52182582],\n",
       "        [0.71842867, 0.27450469, 0.7062295 , 0.32985775, 0.63938535],\n",
       "        [0.03353179, 0.49296427, 0.14694239, 0.57866073, 0.83829168],\n",
       "        [0.28332578, 0.75336573, 0.99170934, 0.08134614, 0.57608027]]),\n",
       " array([[0.95386681, 0.1139276 , 0.85831733, 0.26398135, 0.59815264],\n",
       "        [0.57873108, 0.92637011, 0.56453758, 0.75985273, 0.07166153],\n",
       "        [0.45554252, 0.43379525, 0.19982764, 0.31199846, 0.30118483],\n",
       "        [0.54063306, 0.92584335, 0.56877815, 0.93901057, 0.98692334],\n",
       "        [0.37009047, 0.70790248, 0.19199625, 0.26417496, 0.35706846]]))"
      ]
     },
     "execution_count": 190,
     "metadata": {},
     "output_type": "execute_result"
    }
   ],
   "source": [
    "a1, b1"
   ]
  },
  {
   "cell_type": "code",
   "execution_count": 183,
   "metadata": {},
   "outputs": [],
   "source": [
    "lenght = a1.shape[0]"
   ]
  },
  {
   "cell_type": "code",
   "execution_count": 184,
   "metadata": {},
   "outputs": [
    {
     "data": {
      "text/plain": [
       "(5, 5)"
      ]
     },
     "execution_count": 184,
     "metadata": {},
     "output_type": "execute_result"
    }
   ],
   "source": [
    "a1.shape"
   ]
  },
  {
   "cell_type": "code",
   "execution_count": 185,
   "metadata": {},
   "outputs": [
    {
     "data": {
      "text/plain": [
       "array([0.61072248, 0.18093796, 0.32985775, 0.57866073, 0.08134614])"
      ]
     },
     "execution_count": 185,
     "metadata": {},
     "output_type": "execute_result"
    }
   ],
   "source": [
    "a1[:,3]"
   ]
  },
  {
   "cell_type": "code",
   "execution_count": 212,
   "metadata": {},
   "outputs": [
    {
     "name": "stdout",
     "output_type": "stream",
     "text": [
      "[[0.10567365 0.18635373 0.45116812 0.78134489 1.09818305]\n",
      " [0.10225783 0.10834253 0.30796108 0.47548129 0.84488308]\n",
      " [0.61663978 0.77160799 0.91273217 1.10034805 1.22310764]\n",
      " [0.00885177 0.38343202 0.42927782 0.97264636 1.19410203]\n",
      " [0.16947206 0.2234594  0.52214721 0.60242961 0.80812971]]\n"
     ]
    }
   ],
   "source": [
    "m = np.zeros((a1.shape))\n",
    "\n",
    "for i in range(lenght):\n",
    "    sum = 0\n",
    "    for n in range(lenght):\n",
    "        sum += a1[i,n] * b1[n,i]\n",
    "        m[i,n] = sum\n",
    "        \n",
    "print(m)"
   ]
  },
  {
   "cell_type": "code",
   "execution_count": 194,
   "metadata": {},
   "outputs": [
    {
     "name": "stdout",
     "output_type": "stream",
     "text": [
      "[[0.10567365 0.01588249 0.49895404 0.16121935 0.51208447]\n",
      " [0.51945082 0.0060847  0.25978195 0.1374862  0.03739483]\n",
      " [0.32727481 0.11907883 0.14112417 0.10291511 0.19257317]\n",
      " [0.01812839 0.4564077  0.08357762 0.54336854 0.82732962]\n",
      " [0.10485617 0.53330947 0.19040447 0.02148961 0.20570009]]\n"
     ]
    }
   ],
   "source": [
    "print(np.multiply(a1, b1))"
   ]
  },
  {
   "cell_type": "code",
   "execution_count": 128,
   "metadata": {
    "id": "IIgYD1W5K7lB"
   },
   "outputs": [],
   "source": [
    "def np_mult(a, b):\n",
    "    return np.multiply(a, b)"
   ]
  },
  {
   "cell_type": "code",
   "execution_count": 192,
   "metadata": {},
   "outputs": [
    {
     "data": {
      "text/plain": [
       "array([[0.10567365, 0.01588249, 0.49895404, 0.16121935, 0.51208447],\n",
       "       [0.51945082, 0.0060847 , 0.25978195, 0.1374862 , 0.03739483],\n",
       "       [0.32727481, 0.11907883, 0.14112417, 0.10291511, 0.19257317],\n",
       "       [0.01812839, 0.4564077 , 0.08357762, 0.54336854, 0.82732962],\n",
       "       [0.10485617, 0.53330947, 0.19040447, 0.02148961, 0.20570009]])"
      ]
     },
     "execution_count": 192,
     "metadata": {},
     "output_type": "execute_result"
    }
   ],
   "source": [
    "np_mult(a1, b1)"
   ]
  },
  {
   "cell_type": "code",
   "execution_count": null,
   "metadata": {},
   "outputs": [],
   "source": []
  },
  {
   "cell_type": "code",
   "execution_count": null,
   "metadata": {},
   "outputs": [],
   "source": []
  },
  {
   "cell_type": "code",
   "execution_count": 127,
   "metadata": {
    "id": "tktkYzUHK7lE"
   },
   "outputs": [
    {
     "ename": "NameError",
     "evalue": "name 'mult' is not defined",
     "output_type": "error",
     "traceback": [
      "\u001b[1;31m---------------------------------------------------------------------------\u001b[0m",
      "\u001b[1;31mNameError\u001b[0m                                 Traceback (most recent call last)",
      "File \u001b[1;32m<timed exec>:2\u001b[0m, in \u001b[0;36m<module>\u001b[1;34m\u001b[0m\n",
      "\u001b[1;31mNameError\u001b[0m: name 'mult' is not defined"
     ]
    }
   ],
   "source": [
    "%%time\n",
    "# засечем время работы функции без NumPy\n",
    "M1 = mult(a, b)"
   ]
  },
  {
   "cell_type": "code",
   "execution_count": null,
   "metadata": {
    "id": "TmD0adgHK7lK"
   },
   "outputs": [],
   "source": [
    "%%time\n",
    "# засечем время работы функции с NumPy\n",
    "M2 = np_mult(a, b)"
   ]
  },
  {
   "cell_type": "code",
   "execution_count": null,
   "metadata": {
    "id": "oftqyANQK7lS"
   },
   "outputs": [],
   "source": [
    "# проверим корректность\n",
    "assert np.allclose(np.array(M1), M2)"
   ]
  },
  {
   "cell_type": "markdown",
   "metadata": {
    "id": "2itTyTlcaHAu"
   },
   "source": [
    "### Задание 2"
   ]
  },
  {
   "cell_type": "markdown",
   "metadata": {
    "id": "BCemQSq-aEbO"
   },
   "source": [
    "Вам подаются на вход два вектора `a` и `b` в трехмерном пространстве. Заполните их случайными числами. Реализуйте их скалярное произведение с помощью  `NumPy` и без. Засеките время работы, как это показано в заданиях выше."
   ]
  },
  {
   "cell_type": "code",
   "execution_count": 216,
   "metadata": {
    "colab": {
     "base_uri": "https://localhost:8080/"
    },
    "id": "lWhr_gPSZ9o_",
    "outputId": "78800ae7-d578-4649-c233-0d3d72239185"
   },
   "outputs": [
    {
     "name": "stdout",
     "output_type": "stream",
     "text": [
      "[0.92344102 0.40478953 0.29718841] [0.97779617 0.66836302 0.84772486]\n"
     ]
    }
   ],
   "source": [
    "a = np.random.sample((1, 3))\n",
    "a = list(a)[0]\n",
    "b = np.random.sample((1, 3))\n",
    "b = list(b)[0]\n",
    "print(a, b)"
   ]
  },
  {
   "cell_type": "code",
   "execution_count": 239,
   "metadata": {
    "id": "GjlkcHIWZ_ae"
   },
   "outputs": [],
   "source": [
    "def scalar_product(a, b):\n",
    "    sum = 0\n",
    "    for i in range(len(a)):\n",
    "        sum += a[i]*b[i]\n",
    "    return sum"
   ]
  },
  {
   "cell_type": "code",
   "execution_count": 240,
   "metadata": {},
   "outputs": [
    {
     "data": {
      "text/plain": [
       "10"
      ]
     },
     "execution_count": 240,
     "metadata": {},
     "output_type": "execute_result"
    }
   ],
   "source": [
    "scalar_product(a, b)"
   ]
  },
  {
   "cell_type": "code",
   "execution_count": 229,
   "metadata": {
    "id": "C2M-OAp5Z_6a"
   },
   "outputs": [],
   "source": [
    "def np_scalar_product(a,b):\n",
    "    return np.dot(a,b)"
   ]
  },
  {
   "cell_type": "code",
   "execution_count": 241,
   "metadata": {},
   "outputs": [
    {
     "data": {
      "text/plain": [
       "10"
      ]
     },
     "execution_count": 241,
     "metadata": {},
     "output_type": "execute_result"
    }
   ],
   "source": [
    "np_scalar_product(a,b)"
   ]
  },
  {
   "cell_type": "code",
   "execution_count": null,
   "metadata": {},
   "outputs": [],
   "source": [
    "#Другие возможные решения\n",
    "import numpy as np\n",
    "\n",
    "def no_numpy_scalar(v1, v2):\n",
    "\n",
    "    result = sum(list(map(lambda x,y: x*y,v1,v2)))\n",
    "    return result\n",
    "\n",
    "def numpy_scalar (v1, v2):\n",
    "\n",
    "    result = v1@v2\n",
    "    return result"
   ]
  },
  {
   "cell_type": "code",
   "execution_count": 242,
   "metadata": {
    "id": "BOQfYf-2aCQJ",
    "scrolled": true
   },
   "outputs": [
    {
     "name": "stdout",
     "output_type": "stream",
     "text": [
      "CPU times: total: 0 ns\n",
      "Wall time: 0 ns\n",
      "CPU times: total: 0 ns\n",
      "Wall time: 0 ns\n"
     ]
    }
   ],
   "source": [
    "%time product_1 = scalar_product(a,b)\n",
    "%time product_2 = np_scalar_product(a,b)\n",
    "\n",
    "# проверим корректность:\n",
    "assert np.allclose(product_1, product_2)"
   ]
  },
  {
   "cell_type": "markdown",
   "metadata": {
    "id": "NHaHu6q1K7mH"
   },
   "source": [
    "Почему методы ***numpy*** оказываются эффективнее? Что вы можете сказать о скорости вычислений в NumPy?"
   ]
  },
  {
   "cell_type": "markdown",
   "metadata": {
    "id": "_A3p2s4eK7mI"
   },
   "source": [
    "**Ответ:** Скорость вычислений вектоных и матричных операций в NumPy сильно превосходит скорость вычислений без него, по большей части потому, что функции numpy работаю с массивами данных одного типа (числовыми), это позволяет реализовать встроенные функции numpy на C/C++, что, конечно, делает numpy быстрее (функции, которые вызывает Numpy для работы с числовыми данными, сильно оптимизированы именно под эти задачи, а сам Python просто гоняет интерпретатор по циклу в таких операциях, что является чуть ли не самым большим замедлением в работе интерпретатора)."
   ]
  },
  {
   "cell_type": "markdown",
   "metadata": {
    "id": "mJXeUuznK7lm"
   },
   "source": [
    "### Задание 3\n",
    "Напишите функцию, которая находим сумму четных диагональных элементов квадратной матрицы. Если таких элементов нет, то вывести `0`. Используйте библиотеку Numpy"
   ]
  },
  {
   "cell_type": "code",
   "execution_count": null,
   "metadata": {
    "id": "qYNiKbK47TTS"
   },
   "outputs": [],
   "source": [
    "def np_diag_2k(a):\n",
    "    \"\"\"  \n",
    "    a: np.array[m, m] --- первая матрица-аргумент\n",
    "    return c: float   --- сумма элементов массива а, принадлежащих диагонали и являющимися четными\n",
    "\n",
    "    Функция принимает на вход квадратную матрицу размерностью m x m и возвращает число,\n",
    "    равное сумме четных диагональных элементов этой квадратной матрицы\n",
    "\n",
    "    В реализации этой функции необходимо использовать функционал пакета numpy\n",
    "\n",
    "    \"\"\" \n",
    "    pass"
   ]
  },
  {
   "cell_type": "code",
   "execution_count": 2,
   "metadata": {
    "id": "BdInn8_j7TTU"
   },
   "outputs": [
    {
     "data": {
      "text/plain": [
       "array([[6, 6, 1, 9, 7],\n",
       "       [3, 1, 6, 4, 5],\n",
       "       [9, 3, 8, 3, 7],\n",
       "       [4, 3, 7, 6, 7],\n",
       "       [5, 2, 7, 7, 8]])"
      ]
     },
     "execution_count": 2,
     "metadata": {},
     "output_type": "execute_result"
    }
   ],
   "source": [
    "# зададим некоторую квадратную матрицу\n",
    "a = np.random.randint(1, 10, size=(5, 5))\n",
    "a"
   ]
  },
  {
   "cell_type": "code",
   "execution_count": 13,
   "metadata": {},
   "outputs": [],
   "source": [
    "#создаем маску значений\n",
    "mask = np.diag(a%2 != 1)"
   ]
  },
  {
   "cell_type": "code",
   "execution_count": 17,
   "metadata": {},
   "outputs": [
    {
     "data": {
      "text/plain": [
       "array([6, 8, 6, 8])"
      ]
     },
     "execution_count": 17,
     "metadata": {},
     "output_type": "execute_result"
    }
   ],
   "source": [
    "#Получаем нужные значения\n",
    "np.diag(a)[mask]"
   ]
  },
  {
   "cell_type": "code",
   "execution_count": 18,
   "metadata": {},
   "outputs": [
    {
     "data": {
      "text/plain": [
       "28"
      ]
     },
     "execution_count": 18,
     "metadata": {},
     "output_type": "execute_result"
    }
   ],
   "source": [
    "#Получаем сумму нужных значений\n",
    "np.diag(a)[mask].sum()"
   ]
  },
  {
   "cell_type": "code",
   "execution_count": 19,
   "metadata": {},
   "outputs": [],
   "source": [
    "#Заворачиваем все это в функцию\n",
    "import numpy as np       \n",
    "\n",
    "def diag_2k(a):\n",
    "    #param a: np.array[size, size]\n",
    "    #YOUR CODE\n",
    "    #создаем маску значений\n",
    "    mask = np.diag(a%2 != 1)\n",
    "    #Получаем нужные значения\n",
    "    np.diag(a)[mask]\n",
    "    #Получаем сумму нужных значений\n",
    "    result = np.diag(a)[mask].sum()\n",
    "    return result"
   ]
  },
  {
   "cell_type": "code",
   "execution_count": 20,
   "metadata": {},
   "outputs": [
    {
     "data": {
      "text/plain": [
       "28"
      ]
     },
     "execution_count": 20,
     "metadata": {},
     "output_type": "execute_result"
    }
   ],
   "source": [
    "diag_2k(a)"
   ]
  },
  {
   "cell_type": "code",
   "execution_count": 22,
   "metadata": {
    "id": "ZR97Nt9N7TTW"
   },
   "outputs": [
    {
     "name": "stdout",
     "output_type": "stream",
     "text": [
      "CPU times: total: 0 ns\n",
      "Wall time: 0 ns\n"
     ]
    },
    {
     "data": {
      "text/plain": [
       "28"
      ]
     },
     "execution_count": 22,
     "metadata": {},
     "output_type": "execute_result"
    }
   ],
   "source": [
    "%%time\n",
    "# засечем время работы функции с NumPy\n",
    "diag_2k(a)"
   ]
  },
  {
   "cell_type": "code",
   "execution_count": null,
   "metadata": {},
   "outputs": [],
   "source": [
    "#Еще варианты решений\n",
    "import numpy as np\n",
    "\n",
    "def diag_2k(a):\n",
    "    diag = a.diagonal()\n",
    "    return np.sum(diag[diag % 2 == 0])"
   ]
  },
  {
   "cell_type": "code",
   "execution_count": null,
   "metadata": {},
   "outputs": [],
   "source": [
    "import numpy as np \n",
    "\n",
    "def diag_2k(a):\n",
    "    result = np.trace(a*(a%2==0))\n",
    "    return result"
   ]
  },
  {
   "cell_type": "markdown",
   "metadata": {
    "id": "cdcRkFzQ7TTY"
   },
   "source": [
    "### Задание 4\n",
    "​\n",
    "На вход дан двумерный массив $X$. Напишите функцию, которая для каждой строчки $(x = (x_1, x_2, \\ldots, x_n)$ массива $X$ строит строчку $s = (s_1, s_2, \\ldots, s_n)$,  где $s_k=x_1+...+x_k$, а затем выдаёт массив из построенных строчек. Используйте библиотеку <code>numpy</code> (вам поможет функция <code>cumsum</code>). Выходом функции должен быть двумерный <code>numpy</code>-массив той же формы, что и $X$.\n",
    "​ "
   ]
  },
  {
   "cell_type": "code",
   "execution_count": null,
   "metadata": {
    "id": "REgL39ksK7lr"
   },
   "outputs": [],
   "source": [
    "def cumsum(A):\n",
    "    \"\"\"  \n",
    "    A: np.array[num_row, num_column]        --- матрица-аргумент\n",
    "    return S: np.array[num_row, num_column] --- выходная матрица кумулятивных сумм\n",
    "\n",
    "    Функция принимает на вход матрицу A размерностью n x m и возвращает \n",
    "    матрицу с той же размерностью n x m, i-ая строчка которой есть последовательность \n",
    "    кумулятивных сумм элементов i-ой строки матрицы A\n",
    "\n",
    "    В реализации этой функции необходимо использовать функционал пакета numpy\n",
    "\n",
    "    \"\"\" \n",
    "    pass"
   ]
  },
  {
   "cell_type": "code",
   "execution_count": 46,
   "metadata": {},
   "outputs": [
    {
     "data": {
      "text/plain": [
       "array([[1, 2, 3],\n",
       "       [4, 5, 6],\n",
       "       [7, 8, 9]])"
      ]
     },
     "execution_count": 46,
     "metadata": {},
     "output_type": "execute_result"
    }
   ],
   "source": [
    "a = np.array([[1,2,3], [4,5,6], [7,8,9]])\n",
    "a"
   ]
  },
  {
   "cell_type": "code",
   "execution_count": 55,
   "metadata": {},
   "outputs": [],
   "source": [
    "def cumsum(a):\n",
    "    return np.cumsum(a, axis=-1)"
   ]
  },
  {
   "cell_type": "code",
   "execution_count": 56,
   "metadata": {},
   "outputs": [
    {
     "data": {
      "text/plain": [
       "array([[ 1,  3,  6],\n",
       "       [ 4,  9, 15],\n",
       "       [ 7, 15, 24]], dtype=int32)"
      ]
     },
     "execution_count": 56,
     "metadata": {},
     "output_type": "execute_result"
    }
   ],
   "source": [
    "cumsum(a)"
   ]
  },
  {
   "cell_type": "code",
   "execution_count": 52,
   "metadata": {
    "id": "HcVN8MagK7lw"
   },
   "outputs": [
    {
     "name": "stdout",
     "output_type": "stream",
     "text": [
      "CPU times: total: 0 ns\n",
      "Wall time: 0 ns\n"
     ]
    }
   ],
   "source": [
    "# зададим некоторую последовательность и проверим ее на вашей функции. \n",
    "A = sps.uniform.rvs(size=10**3) \n",
    "\n",
    "%time S2 = cumsum(A)"
   ]
  },
  {
   "cell_type": "markdown",
   "metadata": {
    "id": "teVCPWZmK7l5"
   },
   "source": [
    "### Задание 5\n",
    "\n",
    "​\n",
    "Задан двумерный массив $X$. Для каждой строчки массива X необходимо сделать следующее преобразование.\n",
    "\n",
    "Пусть дана строчка x. Необходимо построить новый массив, где все элементы с нечетными индексами требуется заменить на число a (значение по умолчанию a=1). Все элементы с четными индексами нужно возвести в куб. Затем записать элементы в обратном порядке относительно их позиций. В конце требуется слить массив x с преобразованным x и вывести.\n",
    "\n",
    "Напишите функцию, которая выполняет данное преобразование для каждой строчки двумерного массива X. Массив X при этом должен остаться без изменений.\n",
    "\n",
    "Используйте библиотеку numpy.\n",
    "\n",
    "Пример:\n",
    "$X = [[100,200,300,400,500]]$ -> $[[100,a,300,a,500]]$ -> $[[500^3,a,300^3,a,100^3]]$ -> склеиваем -> $[[100,200,300,400,500,500^3,a,300^3,a,100^3]]$\n",
    "\n",
    "​"
   ]
  },
  {
   "cell_type": "code",
   "execution_count": null,
   "metadata": {
    "id": "0hmcvfDVK7l-"
   },
   "outputs": [],
   "source": [
    "from copy import copy\n",
    "def np_transformation(X, a=1):\n",
    "    \"\"\"  \n",
    "    X: np.array[num_row, num_column]          --- матрица-аргумент\n",
    "    a: float                                  --- значение для преобразования нечетных элементов строк в X\n",
    "    return S: np.array[num_row, num_column*2] --- матрица, где строки являются \n",
    "    сконкатенированными строками изначальной матрицы X со строками, являющимися их преобразованиями\n",
    "\n",
    "    Функция принимает на вход матрицу X размерностью n x m, число a и \n",
    "    возвращает  матрицу с размерностью n x m*2, i-ая строчка которой является склеенной\n",
    "    i-ой строкой X с ее преобразованием ее строки transformation(X[i]), записанном в обратном порядке, \n",
    "    где преобразование для числа k определено как:\n",
    "    transformation(k) = a if ind(k) % 2 == 0 else k**3\n",
    "\n",
    "    В реализации этой функции необходимо использовать функционал пакета numpy\n",
    "\n",
    "    \"\"\" \n",
    "    pass"
   ]
  },
  {
   "cell_type": "code",
   "execution_count": 209,
   "metadata": {},
   "outputs": [],
   "source": [
    "a = 1"
   ]
  },
  {
   "cell_type": "code",
   "execution_count": 221,
   "metadata": {},
   "outputs": [
    {
     "data": {
      "text/plain": [
       "array([[100, 200, 300, 400, 500]])"
      ]
     },
     "execution_count": 221,
     "metadata": {},
     "output_type": "execute_result"
    }
   ],
   "source": [
    "#Создаю первый массив\n",
    "X = np.array([[100,200,300,400,500]])\n",
    "X"
   ]
  },
  {
   "cell_type": "code",
   "execution_count": 222,
   "metadata": {},
   "outputs": [],
   "source": [
    "#Копирую массив, т.к. он не должен быть изменен по условию\n",
    "Y = X.copy()"
   ]
  },
  {
   "cell_type": "code",
   "execution_count": 223,
   "metadata": {},
   "outputs": [
    {
     "data": {
      "text/plain": [
       "array([[100,   1, 300,   1, 500]])"
      ]
     },
     "execution_count": 223,
     "metadata": {},
     "output_type": "execute_result"
    }
   ],
   "source": [
    "#Делаю каждый нечетный элемент равным а\n",
    "Y[:, 1::2] = a\n",
    "Y"
   ]
  },
  {
   "cell_type": "code",
   "execution_count": 225,
   "metadata": {},
   "outputs": [
    {
     "data": {
      "text/plain": [
       "array([[  1000000,         1,  27000000,         1, 125000000]])"
      ]
     },
     "execution_count": 225,
     "metadata": {},
     "output_type": "execute_result"
    }
   ],
   "source": [
    "#Возвожу каждый четный элемент в куб\n",
    "Y[:, ::2] = Y[:, ::2]**3\n",
    "Y"
   ]
  },
  {
   "cell_type": "code",
   "execution_count": 226,
   "metadata": {},
   "outputs": [
    {
     "data": {
      "text/plain": [
       "array([[125000000,         1,  27000000,         1,   1000000]])"
      ]
     },
     "execution_count": 226,
     "metadata": {},
     "output_type": "execute_result"
    }
   ],
   "source": [
    "#Разворачиваю массив\n",
    "Y = Y[:,::-1]\n",
    "Y"
   ]
  },
  {
   "cell_type": "code",
   "execution_count": 229,
   "metadata": {},
   "outputs": [],
   "source": [
    "#соединяю оба массива\n",
    "result=np.concatenate((X, Y), axis=1)"
   ]
  },
  {
   "cell_type": "code",
   "execution_count": 230,
   "metadata": {},
   "outputs": [
    {
     "data": {
      "text/plain": [
       "array([[      100,       200,       300,       400,       500, 125000000,\n",
       "                1,  27000000,         1,   1000000]])"
      ]
     },
     "execution_count": 230,
     "metadata": {},
     "output_type": "execute_result"
    }
   ],
   "source": [
    "#оцениваю результат\n",
    "result"
   ]
  },
  {
   "cell_type": "code",
   "execution_count": 231,
   "metadata": {},
   "outputs": [],
   "source": [
    "#Засовываю все это в функцию, чтобы сдать на Stepik\n",
    "import numpy as np\n",
    "\n",
    "def transform(X, a=1):\n",
    "    \"\"\"\n",
    "    param X: np.array[batch_size, n]\n",
    "    \"\"\"\n",
    "\n",
    "    Y = X.copy()\n",
    "    Y[:,1::2] = a\n",
    "    Y[:,::2] = Y[:,::2]**3\n",
    "    Y = Y[:,::-1]\n",
    "    result = np.concatenate((X, Y), axis=1)\n",
    "    return result"
   ]
  },
  {
   "cell_type": "code",
   "execution_count": 234,
   "metadata": {
    "id": "r2-JLMhxK7mE",
    "scrolled": true
   },
   "outputs": [
    {
     "name": "stdout",
     "output_type": "stream",
     "text": [
      "CPU times: total: 0 ns\n",
      "Wall time: 1e+03 µs\n"
     ]
    }
   ],
   "source": [
    "X = np.array([[i for i in range(1, 10, 2)]])\n",
    "%time S2 = transform(X, 5)"
   ]
  },
  {
   "cell_type": "code",
   "execution_count": null,
   "metadata": {},
   "outputs": [],
   "source": [
    "#Пара решений от коллег по курсу по классике\n",
    "import numpy as np\n",
    "\n",
    "def transform(X, a=1):\n",
    "    Y = np.copy(X)\n",
    "    Y[:,1::2] = a\n",
    "    Y[:,0::2] **= 3\n",
    "    return np.hstack((X, Y[:,::-1]))"
   ]
  },
  {
   "cell_type": "code",
   "execution_count": null,
   "metadata": {},
   "outputs": [],
   "source": [
    "import numpy as np\n",
    "\n",
    "def transform(X, a=1):\n",
    "    Y = X.copy()\n",
    "    Y[:, 1::2] = a\n",
    "    Y[:, ::2] **= 3\n",
    "    Y = Y[:, ::-1]\n",
    "    return np.concatenate((X, Y), axis=1)"
   ]
  },
  {
   "cell_type": "markdown",
   "metadata": {
    "id": "qa521fce7TTk"
   },
   "source": [
    "### Задание 6\n",
    "Написать функцию для кодирование массива (Run-length encoding). Все подряд идущие повторения элементов функция сжимает в один элемент и считает количество повторений этого элемента. Функция возвращает кортеж из двух векторов одинаковой длины. Первый содержит элементы, а второй — сколько раз их нужно повторить. \n",
    "\n",
    "Пример: encode(np.array([1, 2, 2, 3, 3, 1, 1, 5, 5, 2, 3, 3])) = (np.array[1, 2, 3, 1, 5, 2, 3]), np.array[1, 2, 2, 2, 2, 1, 2])"
   ]
  },
  {
   "cell_type": "code",
   "execution_count": null,
   "metadata": {
    "id": "4wD7OSVv7TTl"
   },
   "outputs": [],
   "source": [
    "def np_encode(a):\n",
    "    \"\"\"  \n",
    "    a: np.array[, n] --- вектор-аргумент длиной n\n",
    "    return (elems, repetitions): (np.array, np.array) --- выходной кортеж из вектора \n",
    "    элементов и вектора их количеств в подряд идущих повторениях\n",
    "\n",
    "    Функция принимает на вход вектор a длиной n, добавляет в вектор elem сжатые \n",
    "    в один элемент подряд идущие повторения элементов входного вектора a, в вектор \n",
    "    repetitions добавляет длины последовательностей подряд идущих повторений. \n",
    "    Затем функция возвращает кортеж векторов (elems, repetitions).\n",
    "\n",
    "    В реализации этой функции необходимо использовать функционал пакета numpy\n",
    "\n",
    "    \"\"\" \n",
    "    pass"
   ]
  },
  {
   "cell_type": "code",
   "execution_count": null,
   "metadata": {
    "id": "P7YxojET7TTn"
   },
   "outputs": [],
   "source": [
    "X = np.array([1, 2, 2, 3, 3, 1, 1, 5, 5, 2, 3, 3])\n",
    "\n",
    "%time x, num = np_encode(X)"
   ]
  }
 ],
 "metadata": {
  "colab": {
   "provenance": []
  },
  "kernelspec": {
   "display_name": "Python 3 (ipykernel)",
   "language": "python",
   "name": "python3"
  },
  "language_info": {
   "codemirror_mode": {
    "name": "ipython",
    "version": 3
   },
   "file_extension": ".py",
   "mimetype": "text/x-python",
   "name": "python",
   "nbconvert_exporter": "python",
   "pygments_lexer": "ipython3",
   "version": "3.9.12"
  }
 },
 "nbformat": 4,
 "nbformat_minor": 1
}
